{
 "cells": [
  {
   "cell_type": "code",
   "execution_count": null,
   "metadata": {},
   "outputs": [],
   "source": []
  },
  {
   "cell_type": "code",
   "execution_count": 6,
   "metadata": {
    "code_folding": []
   },
   "outputs": [
    {
     "data": {
      "text/plain": [
       "[1, 2, 3, 3, 4, 5, 6, 76]"
      ]
     },
     "execution_count": 6,
     "metadata": {},
     "output_type": "execute_result"
    }
   ],
   "source": [
    "# 快速排序法\n",
    "import random\n",
    "class Solution:\n",
    "    def Partition(self, data, start, end):\n",
    "        \"\"\"随机选择基准数，将较小数移到前方，返回基准数在调整顺序后的索引位置\"\"\"\n",
    "        if not data:\n",
    "            raise Exception(\"Invalid Parameters\")\n",
    "        index = random.randrange(start, end)\n",
    "\n",
    "        temp = data[index]\n",
    "        data[index] = data[end]\n",
    "        data[end] = temp\n",
    "\n",
    "        small = start - 1\n",
    "        for index in range(start, end):\n",
    "            if data[index] < data[end]:\n",
    "                small += 1\n",
    "                if small != index:\n",
    "                    temp = data[index]\n",
    "                    data[index] = data[small]\n",
    "                    data[small] = temp\n",
    "        small += 1\n",
    "\n",
    "        temp = data[small]\n",
    "        data[small] = data[end]\n",
    "        data[end] = temp\n",
    "\n",
    "        return small\n",
    "    def QuickSort(self, data, start, end):\n",
    "        \"\"\"快速排序法，输入需要排序的范围\"\"\"\n",
    "        if start == end:\n",
    "            return\n",
    "        index = self.Partition(data, start, end)\n",
    "        if index > start:\n",
    "            self.QuickSort(data, start, index - 1)\n",
    "        if index < end:\n",
    "            self.QuickSort(data, index + 1, end)\n",
    "# test code\n",
    "a = Solution()\n",
    "data = [1,3,5,76,3,2,6,4]\n",
    "a.QuickSort(data, 0, len(data)- 1)\n",
    "data"
   ]
  },
  {
   "cell_type": "code",
   "execution_count": null,
   "metadata": {},
   "outputs": [],
   "source": []
  },
  {
   "cell_type": "markdown",
   "metadata": {},
   "source": [
    "# 面试题3：数组中重复的数字\n",
    "题目一：找出数组中重复的数字\n",
    "    在一个长度为n的数组中素有的数字都在[0, n-1]范围内。请找出数组中任意一个重复的数字。例如，输入长度为7的数组{2,3,1,0,2,5,3}，那么对应输出的重复数字是2或3."
   ]
  },
  {
   "cell_type": "code",
   "execution_count": null,
   "metadata": {},
   "outputs": [],
   "source": [
    "def duplicate(nums:list):\n",
    "    \"\"\"利用列表下标最为哈希表，通过元素互换逐步构建哈希表，若遇到相等的数字则通过下标索引key必然能检测到重复数字\n",
    "    Arg(Argument参数): nums:list[int]\n",
    "    Re(return): 若未找到重复数字，或者列表元素不符合要求将返回bool False，否则返回检索到的重复数字\n",
    "    算法分析：尽管有两重循环，但每个数字最多只要交换两次就能找到属于它的位置，所以总体算法复杂度为O(n)空间复杂度为O(1)\n",
    "    \"\"\"\n",
    "    length = len(nums)\n",
    "    if length < 2:\n",
    "        return False\n",
    "    for i in range(length):\n",
    "        if nums[i] < 0 or nums[i] > length - 1:\n",
    "            return False\n",
    "        while nums[i] != i:\n",
    "            if nums[i] != nums[nums[i]]:#如果不相等就互换位置\n",
    "                temp = nums[nums[i]]\n",
    "                nums[nums[i]] = nums[i]\n",
    "                nums[i] = temp\n",
    "#                 nums[i], nums[nums[i]] = nums[nums[i] - 1], nums[i] 逗号赋值并非同时进行，在这种情况下无法得到正确结果\n",
    "            else:\n",
    "                return nums[i]\n",
    "    return False\n",
    "#测试用例\n",
    "nums = [2,3,1,0,2,5,3]\n",
    "print(duplicate(nums))"
   ]
  },
  {
   "cell_type": "markdown",
   "metadata": {},
   "source": [
    "题目二：(接题目一中)增加限定条件：不修改数组找出重复的数字\n",
    "    \n",
    "    解题思路：利用二分查找法原理，确定中值，统计数组中比中值小或者比中值大的数字的个数，以此确定重复的数字在中值左侧还是右侧"
   ]
  },
  {
   "cell_type": "code",
   "execution_count": null,
   "metadata": {},
   "outputs": [],
   "source": [
    "def countRange(nums, start, end):\n",
    "    \"\"\"统计nums中所有在区间[start, end]中的数的个数\n",
    "    \"\"\"\n",
    "    if not nums:\n",
    "        return 0\n",
    "    count = 0\n",
    "    for i in range(len(nums)):\n",
    "        if nums[i] >= start and nums[i] <= end:\n",
    "            count += 1\n",
    "    return count\n",
    "\n",
    "def getDuplication(nums):\n",
    "    \"\"\"利用二分查找法来找出数组中任意一重复数字 (注意，此方法不能很好的解决此类问题，偶尔会出现错误)\"\"\"\n",
    "    length = len(nums)\n",
    "    if length < 2:\n",
    "        return False\n",
    "    start = 0\n",
    "    end = length - 1\n",
    "    while end >= start:\n",
    "        middle = int((end + start) / 2)\n",
    "        count = countRange(nums, start, middle)\n",
    "        if end == start:\n",
    "            if count > 1:\n",
    "                return start\n",
    "            else:\n",
    "                break\n",
    "        if count > (middle - start + 1):\n",
    "            end = middle\n",
    "        else:\n",
    "            start = middle + 1\n",
    "    return False\n",
    "#测试用例\n",
    "nums = [2,4,5,4,3,2,6,7]\n",
    "print(getDuplication(nums))"
   ]
  },
  {
   "cell_type": "markdown",
   "metadata": {
    "heading_collapsed": true
   },
   "source": [
    "# 面试题 4：二维数组中的查找\n",
    "在一个二维数组中，每一行都按照从左到右的递增顺序排列，每一列都按照从上到下递增的顺序排列，请完成一个函数，输入这样的二维数组和一个整数，判断数组中是否含有该整数.\n",
    "    \n",
    "    解题思路：首先选取数组右上角的数字，如果该数字大于目标数字则排除该列，小于则排除该行，直到等于或者范围为空停止"
   ]
  },
  {
   "cell_type": "code",
   "execution_count": null,
   "metadata": {
    "hidden": true
   },
   "outputs": [],
   "source": [
    "def Find(nums, target):\n",
    "    if len(nums) <= 0 or len(nums[0]) <= 0:\n",
    "        return False\n",
    "    i = 0\n",
    "    j = len(nums[0]) - 1\n",
    "    while i <= len(nums) - 1 and j >= 0:\n",
    "        if nums[i][j] > target:\n",
    "            j -= 1\n",
    "        elif nums[i][j] < target:\n",
    "            i += 1\n",
    "        else:\n",
    "            return True\n",
    "    return False"
   ]
  },
  {
   "cell_type": "markdown",
   "metadata": {
    "heading_collapsed": true
   },
   "source": [
    "# 面试题5：替换空格\n",
    "题目：请实现一个函数，把字符串中的每个空格替换成\"%20\"。例如，输入\"We are happy.\"，则输出\"We%20are%20happy.\"。\n",
    "\n",
    "解题思路：先遍历一遍字符串统计空格的个数，然后分配足够的存储空间，从后向前的依次替换空格(算法时间效率O(n))"
   ]
  },
  {
   "cell_type": "code",
   "execution_count": null,
   "metadata": {
    "hidden": true
   },
   "outputs": [],
   "source": [
    "def ReplaceBlank(string:list):\n",
    "    \"\"\"使用字符型列表来替换str类型，更好的诠释算法思想。若用str类型来做:string.replace(' ', '%20')即可\n",
    "    输入：string:list[char]\n",
    "    输出：string：str\n",
    "    \"\"\"\n",
    "    if not string:\n",
    "        return ''\n",
    "    numOfBlank = 0\n",
    "    for i in string:\n",
    "        if i == ' ':\n",
    "            numOfBlank += 1\n",
    "    originalLength = len(string)\n",
    "    newlength = originalLength + 2*numOfBlank\n",
    "    string = string + ['']*2*numOfBlank\n",
    "    while originalLength >= 0 and newlength > originalLength:\n",
    "        if string[originalLength - 1] == ' ':\n",
    "            string[newlength - 1] = '0'\n",
    "            string[newlength - 2] = '2'\n",
    "            string[newlength - 3] = '%'\n",
    "            newlength -= 3\n",
    "        else:\n",
    "            string[newlength - 1] = string[originalLength - 1]\n",
    "            newlength -= 1\n",
    "        originalLength -= 1\n",
    "    return ''.join(string)\n",
    "\n",
    "string = ['W', 'e', ' ', 'a', 'r', 'e', ' ', 'h', 'a', 'p', 'p', 'y', '.']\n",
    "print(ReplaceBlank(string))"
   ]
  },
  {
   "cell_type": "markdown",
   "metadata": {},
   "source": [
    "# 面试题6： 从尾到头打印链表\n",
    "题目：输入一个链表的头节点，从尾到头反过来打印出每个节点的值。\n",
    "\n",
    "    解题思路：利用栈的先进后出特性存储链表然后再输出(或者利用递归函数)"
   ]
  },
  {
   "cell_type": "code",
   "execution_count": null,
   "metadata": {
    "code_folding": [
     7,
     19,
     36
    ]
   },
   "outputs": [],
   "source": [
    "#创建链表类\n",
    "class ListNode:\n",
    "    \"\"\"创建链表类\"\"\"\n",
    "    def __init__(self, x):\n",
    "        self.val = x\n",
    "        self.next = None\n",
    "#反转打印函数\n",
    "def PrintListReversingly_Iteratively(phead):\n",
    "    \"\"\"利用栈来实现反向打印链表\"\"\"\n",
    "    pNode = phead\n",
    "    stack = []\n",
    "    if pNode.val == None:\n",
    "        print(\"None！\")\n",
    "    while pNode != None:\n",
    "        stack.append(pNode.val)\n",
    "        pNode = pNode.next\n",
    "    while stack != []:\n",
    "        print(stack.pop(-1))\n",
    "\n",
    "def PrintListReversingly_Recursively(phead):\n",
    "    \"\"\"使用递归函数进行反向打印\"\"\"\n",
    "    if phead is not None:\n",
    "        if phead.next is not None:\n",
    "            PrintListReversingly_Recursively(phead.next)\n",
    "        print(phead.val)\n",
    "#测试用例代码\n",
    "##创建链表\n",
    "head = ListNode('head->')\n",
    "pnode = head\n",
    "valueList = list('abcdefg')\n",
    "for i in valueList:\n",
    "    pnode.next = ListNode(i)\n",
    "    pnode = pnode.next\n",
    "#验证链表用代码\n",
    "'''\n",
    "pnode = head\n",
    "while pnode != None:\n",
    "    print(pnode.val)\n",
    "    pnode = pnode.next\n",
    "print(head.val)\n",
    "'''\n",
    "#测试打印函数\n",
    "PrintListReversingly_Iteratively(head)\n",
    "PrintListReversingly_Recursively(head)"
   ]
  },
  {
   "cell_type": "code",
   "execution_count": null,
   "metadata": {
    "code_folding": [
     0,
     1,
     13
    ]
   },
   "outputs": [],
   "source": [
    "#牛客网解题对应函数(不要在此cell中运行)\n",
    "def printListFromTailToHead(self, listNode):\n",
    "    '''利用栈实现反向输出链表'''\n",
    "    pNode = listNode\n",
    "    stack = []\n",
    "    if pNode is None:\n",
    "        return stack\n",
    "    while pNode is not None:\n",
    "        stack.append(pNode.val)\n",
    "        pNode = pNode.next\n",
    "    stack.reverse()\n",
    "    return stack\n",
    "\n",
    "def printListFromTailToHead(self, listNode):\n",
    "    '''利用递归函数反向输出链表'''\n",
    "    if listNode is None:\n",
    "        return []\n",
    "    else:\n",
    "        return self.printListFromTailToHead(listNode.next) + [listNode.val]"
   ]
  },
  {
   "attachments": {
    "2019-05-27_153834.png": {
     "image/png": "[encoded data removed]"
    },
    "2019-05-28_100726.png": {
     "image/png": "[encoded data removed]"
    }
   },
   "cell_type": "markdown",
   "metadata": {
    "heading_collapsed": true
   },
   "source": [
    "# 面试题7：重建二叉树\n",
    "题目：输入某二叉树的前序遍历和中序遍历的结果，请重建该二叉树。假设输入的前序遍历和中序遍历的结果中都不含重复数字。例如输入前序遍历序列{1,2,4,7,3,5,6,8}和中序遍历序列{4,7,2,1,5,3,8,6}，则重建如下入的二叉树并输出它的头节点。\n",
    "![2019-05-27_153834.png](attachment:2019-05-27_153834.png)![2019-05-28_100726.png](attachment:2019-05-28_100726.png)"
   ]
  },
  {
   "cell_type": "code",
   "execution_count": null,
   "metadata": {
    "hidden": true,
    "scrolled": true
   },
   "outputs": [],
   "source": [
    "class BinaryTreeNode:\n",
    "    '''创建二叉树节点'''\n",
    "    def __init__(self, x=None):\n",
    "        self.val = x\n",
    "        self.left = None\n",
    "        self.right = None\n",
    "def preTree(treehead):\n",
    "    \"\"\"递归的先根序遍历二叉树，返回列表序列\"\"\"\n",
    "    if treehead is None:\n",
    "        return []\n",
    "    return [treehead.val] + preTree(treehead.left) + preTree(treehead.right)\n",
    "def tinTree(treehead):\n",
    "    \"\"\"递归的中根序遍历二叉树，返回列表序列\"\"\"\n",
    "    if treehead is None:\n",
    "        return []\n",
    "    return tinTree(treehead.left) + [treehead.val] + tinTree(treehead.right)\n",
    "\n",
    "def _ConstructBinaryTree(pre,tin):\n",
    "    \"\"\"递归调用构造子二叉树\"\"\"\n",
    "    root = BinaryTreeNode(pre[0])\n",
    "    #递归终止条件\n",
    "    if len(pre) == 1:\n",
    "        if len(tin) == 1 and pre[0] == tin[0]:\n",
    "            return root\n",
    "        else:\n",
    "            raise Exception(\"input error\")\n",
    "    rootInorderIndex = tin.index(pre[0])\n",
    "    if len(tin) == 1 and tin[rootInorderIndex] != root.val:\n",
    "        raise Exception(\"input error\")\n",
    "    left = tin[0:rootInorderIndex]\n",
    "    right = tin[rootInorderIndex+1:]\n",
    "    if len(left) > 0:\n",
    "        root.left = _ConstructBinaryTree(pre[1:len(left) + 1], left)\n",
    "    if len(right) > 0:\n",
    "        root.right = _ConstructBinaryTree(pre[len(left)+1:], right)\n",
    "    return root\n",
    "def reConstructBinaryTree(pre, tin):\n",
    "    \"\"\"初始判断输入是否合法，并递归调用构造函数\"\"\"\n",
    "    if not pre or not tin:\n",
    "        raise Exception(\"input error\")\n",
    "    return _ConstructBinaryTree(pre, tin)\n",
    "#测试代码\n",
    "prelist = [1,2,4,7,3,5,6,8]\n",
    "tinlist = [4,7,2,1,5,3,8,6]\n",
    "treehead = reConstructBinaryTree(prelist, tinlist)\n",
    "#验证prelist和tinlist\n",
    "print(tinTree(treehead))"
   ]
  },
  {
   "cell_type": "code",
   "execution_count": null,
   "metadata": {
    "hidden": true
   },
   "outputs": [],
   "source": [
    "#牛客网通过代码   (#####!!不要运行此段代码!!#####)\n",
    "def _ConstructBinaryTree(self,pre,tin):\n",
    "    root = TreeNode(pre[0])\n",
    "    if len(pre) == 1:\n",
    "        if len(tin) == 1 and pre[0] == tin[0]:\n",
    "            return root\n",
    "        else:\n",
    "            return False\n",
    "    rootInorderIndex = tin.index(pre[0])\n",
    "    if len(tin) == 1 and tin[rootInorderIndex] != root.val:\n",
    "        return False\n",
    "    left = tin[0:rootInorderIndex]\n",
    "    right = tin[rootInorderIndex+1:]\n",
    "    if len(left) > 0:\n",
    "        root.left = self._ConstructBinaryTree(pre[1:len(left) + 1], left)\n",
    "    if len(right) > 0:\n",
    "        root.right = self._ConstructBinaryTree(pre[len(left)+1:],right)\n",
    "    return root\n",
    "def reConstructBinaryTree(self, pre, tin):\n",
    "    if not pre or not tin:\n",
    "        return None\n",
    "    return self._ConstructBinaryTree(pre, tin)"
   ]
  },
  {
   "cell_type": "markdown",
   "metadata": {},
   "source": [
    "# 面试题8：二叉树的下一个节点\n",
    "题目：给定一颗二叉树和其中的一个节点，如何找出中序遍历序列的下一个节点？树中的节点除了有两个分别指向左、右子节点的指针，还有一个指向父节点的指针。"
   ]
  },
  {
   "cell_type": "code",
   "execution_count": null,
   "metadata": {
    "code_folding": []
   },
   "outputs": [],
   "source": [
    "class BinaryTreeNode:\n",
    "    '''创建二叉树节点'''\n",
    "    def __init__(self, x=None):\n",
    "        self.val = x\n",
    "        self.parent = None\n",
    "        self.left = None\n",
    "        self.right = None\n",
    "\n",
    "def GetNext(pNode):\n",
    "    \"\"\"获取\"\"\"\n",
    "    if pNode == None:\n",
    "        return None\n",
    "    pNext = BinaryTreeNode()\n",
    "    if pNode.right != None:\n",
    "        #若存在右子树，则右子树中最左侧的节点是下一节点\n",
    "        pRight = pNode.right\n",
    "        while pRight.left != None:\n",
    "            pRight = pRight.left\n",
    "        pNext = pRight\n",
    "    elif pNode.parent != None:\n",
    "        #若右子树不存在，则父节点中是左子树的父节点是下一节点\n",
    "        pCurrent = pNode\n",
    "        pParent = pNode.parent\n",
    "        while pParent != None and pCurrent == pParent.right:\n",
    "            pCurrent = pParent\n",
    "            pParent = pParent.parent\n",
    "        pNext = pParent\n",
    "    return pNext\n",
    "#test code\n",
    "#tin=list('dbheiafcg')\n",
    "#pre=list('abdehicfg')\n",
    "headNode = BinaryTreeNode('a')\n",
    "headNode.left = BinaryTreeNode('b')\n",
    "headNode.left.parent = headNode\n",
    "pNode = headNode.left\n",
    "pNode.left = BinaryTreeNode('d')\n",
    "pNode.right = BinaryTreeNode('e')\n",
    "pNode.left.parent = pNode\n",
    "pNode.right.parent = pNode\n",
    "pNode = pNode.right\n",
    "pNode.left = BinaryTreeNode('h')\n",
    "pNode.right = BinaryTreeNode('i')\n",
    "pNode.left.parent = pNode\n",
    "pNode.right.parent = pNode\n",
    "headNode.right = BinaryTreeNode('c')\n",
    "headNode.right.parent = headNode\n",
    "pNode = headNode.right\n",
    "pNode.left = BinaryTreeNode('f')\n",
    "pNode.right = BinaryTreeNode('g')\n",
    "pNode.left.parent = pNode\n",
    "pNode.right.parent = pNode\n",
    "\n",
    "\n",
    "result = GetNext(pNode)\n",
    "print(result.val)"
   ]
  },
  {
   "cell_type": "markdown",
   "metadata": {},
   "source": [
    "# 面试题9：用两个栈实现队列\n",
    "题目：用两个栈实现一个队列。队列的声明如下，请实现它的两个函数appendTail和deleteHead，分别完成在队列尾部插入节点在队列头部删除节点的功能。\n",
    "    \n",
    "    解题思路：利用栈1入队，在栈2为空时将栈1中的元素通过出栈，再入栈的方式转移到栈2中实现反序"
   ]
  },
  {
   "cell_type": "code",
   "execution_count": null,
   "metadata": {},
   "outputs": [],
   "source": [
    "class Solution:\n",
    "    def __init__(self):\n",
    "        self.stack1 = []\n",
    "        self.stack2 = []\n",
    "    def push(self, node):\n",
    "        self.stack1.append(node)\n",
    "    def pop(self):\n",
    "        if len(self.stack2) <= 0:\n",
    "            #若栈2为空则转移已入栈元素\n",
    "            while len(self.stack1) > 0:\n",
    "                self.stack2.append(self.stack1.pop())\n",
    "        if len(self.stack2) == 0:\n",
    "            #若已转移元素之后栈2还是空，则说明队列为空\n",
    "            raise Exception('queue is empty')\n",
    "        return self.stack2.pop()\n",
    "#测试代码\n",
    "inqueue = [1,2,3,4,5,6,7,8,9]\n",
    "testqueue = Solution()\n",
    "for i in inqueue:\n",
    "    testqueue.push(i)\n",
    "while testqueue.stack1 or testqueue.stack2:\n",
    "    print(testqueue.pop())"
   ]
  },
  {
   "cell_type": "markdown",
   "metadata": {},
   "source": [
    "# 面试题10：斐波拉契数列\n",
    "题目1：求斐波拉契数列的第n项。\n",
    "[斐波拉契数列定义] f(n) = f(n-1) + f(n-2)、f(0) = 0、f(1) = 1\n",
    "\n",
    "解题思路：可以用递归的方式来实现，但算法效率低，使用循环来代替递归会更好\n",
    "\n",
    "题目二：青蛙跳台阶问题\n",
    "一只青蛙一次可以跳上一级台阶，也可以跳上2级台阶。求该青蛙跳上一个n级台阶总共有多少种跳法。\n",
    "\n",
    "解题思路：f(1) = 1, f(2) = 2, 一般情况，先跳一级，剩余还有f(n-1)种方法，先跳2级，剩余还有f(n-2)种方法，所以f(n) = f(n-1) + f(n-2)，因此与斐波拉契数列相似"
   ]
  },
  {
   "cell_type": "code",
   "execution_count": 1,
   "metadata": {
    "code_folding": [
     0,
     15,
     22,
     37
    ]
   },
   "outputs": [
    {
     "data": {
      "text/plain": [
       "55"
      ]
     },
     "execution_count": 1,
     "metadata": {},
     "output_type": "execute_result"
    }
   ],
   "source": [
    "def Fibonacci(n):\n",
    "    \"\"\"从小到大计算，类推出第n项，时间复杂度O(n)比递归小\"\"\"\n",
    "    result = [0,1]\n",
    "    if n < 2:\n",
    "        return result[n]\n",
    "    fibOne = 1\n",
    "    fibTwo = 0\n",
    "    temp = None\n",
    "    for i in range(2,n+1):\n",
    "        temp = fibOne + fibTwo\n",
    "        fibTwo = fibOne\n",
    "        fibOne = temp\n",
    "    return temp\n",
    "Fibonacci(10)\n",
    "\n",
    "def FibonacciM():\n",
    "    \"\"\"利用数学公式[[f(n), f(n-1)], [f(n-1), f(n-2)]] = [[1, 1], [1,0]]^(n-1)。此方法时间复杂度为O(log(n))\"\"\"\n",
    "    print(\"此函数待实现，留作练习\")\n",
    "    pass\n",
    "\n",
    "\"\"\"函数Fibonacci在牛客网上测试通过\"\"\"\n",
    "\n",
    "class Solution:\n",
    "    \"\"\"青蛙台阶问题、矩形覆盖问题\"\"\"\n",
    "    def jumpFloor(self, number):\n",
    "        result = [0,1,2]\n",
    "        if number < 3:\n",
    "            return result[number]\n",
    "        fibOne = 2\n",
    "        fibTwo = 1\n",
    "        fibN = None\n",
    "        for i in range(3,number+1):\n",
    "            fibN = fibOne + fibTwo\n",
    "            fibTwo = fibOne\n",
    "            fibOne = fibN\n",
    "        return fibN\n",
    "    \n",
    "class Solution:\n",
    "    \"\"\"青蛙跳台阶变态版：青蛙每次可以跳任意级\"\"\"\n",
    "    def jumpFloorII(self, number):\n",
    "        if number == 0:\n",
    "            return 0\n",
    "        return 2**(number - 1)"
   ]
  },
  {
   "cell_type": "markdown",
   "metadata": {},
   "source": [
    "# 面试题11：旋转数组中的最小数字\n",
    "题目：把一个数组最开始的若干个元素搬到数组的末尾，我们称之为数组的旋转。输入一个递增排序的数组的一个旋转，输出旋转数组的最小元素。例如，数组[3,4,5,1,2]为[1,2,3,4,5]的一个旋转，该数组的最小值为1.\n",
    "\n",
    "解题思路：旋转后的排序数组是由两个已排好序的子数组组成，利用对撞指针的二分查找法逐步缩小查找范围，但若遇上大量重复数字时，需要遍历子数组进行查找\n"
   ]
  },
  {
   "cell_type": "code",
   "execution_count": null,
   "metadata": {},
   "outputs": [],
   "source": [
    "def MinInorder(nums):\n",
    "    \"\"\"顺序查找最小数字子函数\"\"\"\n",
    "    result = nums[0]\n",
    "    for i in nums:\n",
    "        if i < result:\n",
    "            result = i\n",
    "    return result\n",
    "\n",
    "def Min(nums):\n",
    "    if not nums:\n",
    "        raise Exception(\"无效的输入\")\n",
    "    length = len(nums)\n",
    "    if length < 2:\n",
    "        return nums[0]\n",
    "    start = 0\n",
    "    end = length - 1\n",
    "    mid = start\n",
    "    while nums[start] >= nums[end]:\n",
    "        if end - start == 1:\n",
    "            mid = end\n",
    "            break\n",
    "        mid = (end + start) / 2\n",
    "        if nums[start] == nums[end] and nums[mid] == nums[start]:\n",
    "            return MinInorder(nums[start:end])\n",
    "        if nums[mid] >= nums[start]:\n",
    "            start = mid\n",
    "        elif nums[mid] <= nums[end]:\n",
    "            end = mid\n",
    "    return nums[mid]\n",
    "\n",
    "\n",
    "# test code\n",
    "\"\"\"在牛客网上通过测试\"\"\""
   ]
  },
  {
   "cell_type": "markdown",
   "metadata": {},
   "source": [
    "# 面试题12：矩阵中的路径\n",
    "题目：请设计一个函数，用来判断在一个矩阵中是否存在一条包含某字符串的所有字符的路径。路径可以从矩阵中的任意一格开始，每一步可以在矩阵中向左、右、上、下移动一格。如果一条路径经过了矩阵的某一格，那么该路径不能再次进入该格子。例如，在下面的3*4的矩阵中包含一条字符串“bfce”的路径(路径中的字母用大写标出)。但矩阵中不包含字符串“abfb”的路径，因为字符串的第一个字符b占据了矩阵中的第一行第二个格子后，路径不能再次进入这个格子。\n",
    "[[a,B,t,g]\n",
    ",[c,F,C,s]\n",
    ",[j,d,E,h]]\n",
    "\n",
    "解题思路：利用回溯法，若当前路径不通，则回溯上一节点，尝试未尝试过的路径"
   ]
  },
  {
   "cell_type": "code",
   "execution_count": 27,
   "metadata": {
    "code_folding": [
     0
    ]
   },
   "outputs": [
    {
     "name": "stdout",
     "output_type": "stream",
     "text": [
      "False\n"
     ]
    }
   ],
   "source": [
    "def hasPathCore(matrix, i, j, strs, visited, pathLength):\n",
    "    \"\"\"递归调用自己，探索每一个节点\"\"\"\n",
    "    if pathLength >= len(strs):\n",
    "        return True\n",
    "    result = False\n",
    "    if i >= 0 and i < len(matrix) and j >= 0 and j < len(matrix[0]) and matrix[i][j] == strs[pathLength] and not visited[i][j]:\n",
    "        # 索引范围正确且此时矩阵的值和字符串的值相匹配，并且此点未被占据过，则递归探索下一符合要求的点\n",
    "        pathLength += 1\n",
    "        visited[i][j] = True\n",
    "        result = hasPathCore(matrix,i,j-1,strs,visited,pathLength) or hasPathCore(matrix,i-1,j,strs,visited,pathLength) \\\n",
    "        or hasPathCore(matrix,i,j+1,strs,visited,pathLength) or hasPathCore(matrix,i+1,j,strs,visited,pathLength)\n",
    "        # 递归探索四个方向的下一节点是否符合要求，若不符合要求则退回上一节点\n",
    "        if not result:\n",
    "            pathLength -= 1\n",
    "            visited[i][j] = False\n",
    "    return result\n",
    "\n",
    "def hasPath(matrix,strs):\n",
    "    if not matrix or not strs:\n",
    "        return False\n",
    "    rows = len(matrix)\n",
    "    clos = len(matrix[0])\n",
    "    # visited = [[False]*clos]*rows \n",
    "    # 这样构造矩阵，其行将会是第一行的浅拷贝，修改任一元素，将引起整列元素同时被改，因此采用下面的循环进行构造\n",
    "    visited = [[False]*clos for _ in range(rows)]\n",
    "    pathLength = 0\n",
    "    for i in range(rows):\n",
    "        for j in range(clos):\n",
    "            #双循环遍历每一个点作为起点\n",
    "            if hasPathCore(matrix,i,j,strs,visited,pathLength):\n",
    "                return True\n",
    "    return False\n",
    "\n",
    "#test code\n",
    "a = [[None]]*3\n",
    "a[0] = list('abtg')\n",
    "a[1] = list('cfcs')\n",
    "a[2] = list('jdeh')\n",
    "strs = 'tegsc'\n",
    "print(hasPath(a, strs))"
   ]
  },
  {
   "cell_type": "markdown",
   "metadata": {},
   "source": [
    "# 面试题13：机器人的运动范围\n",
    "题目：地上有一个m×n的方格。一个机器人从坐标(0, 0)的格子开始移动，它每次可以向左、右、上、下移动一格，但不能进入行坐标和列坐标的位数之和大于k的格子。例如，当k=18时，机器人能够进入方格(35,37),因为3+5+3+7=18。但它不能进入方格(35, 38)，因为3+5+3+8=19。请问该机器人能够到达多少个格子？\n",
    "\n",
    "解题思路：因为机器人每次只能移动一格，同样可以利用回溯法逐步遍历能够到达哪些格子"
   ]
  },
  {
   "cell_type": "code",
   "execution_count": 33,
   "metadata": {
    "code_folding": [
     0,
     9,
     17,
     29
    ]
   },
   "outputs": [
    {
     "name": "stdout",
     "output_type": "stream",
     "text": [
      "1121\n"
     ]
    }
   ],
   "source": [
    "def getDigitSum(number):\n",
    "    \"\"\"计算数字和函数\"\"\"\n",
    "    sumResult = 0\n",
    "    while number > 0:\n",
    "        sumResult += number % 10\n",
    "        number /= 10\n",
    "    return sumResult\n",
    "\n",
    "\n",
    "def check(threshold, rows, cols, row, col, visited):\n",
    "    \"\"\"条件判断函数\"\"\"\n",
    "    if row >= 0 and row < rows and col >= 0 and col < cols and getDigitSum(row) + getDigitSum(col)\\\n",
    "    <= threshold and not visited[row][col]:\n",
    "        return True\n",
    "    return False\n",
    "\n",
    "\n",
    "def movingCountCroe(threshold, rows, cols, row, col, visited):\n",
    "    \"\"\"递归探索每一个可能的格子\"\"\"\n",
    "    count = 0\n",
    "    if check(threshold, rows, cols, row, col, visited):\n",
    "        visited[row][col] = True\n",
    "        count = 1 + movingCountCroe(threshold, rows, cols, row - 1, col, visited) \\\n",
    "            + movingCountCroe(threshold, rows, cols, row, col - 1, visited)\\\n",
    "            + movingCountCroe(threshold, rows, cols, row + 1, col, visited)\\\n",
    "            + movingCountCroe(threshold, rows, cols, row, col + 1, visited)\n",
    "    return count\n",
    "\n",
    "\n",
    "def movingCount(threshold, rows, cols):\n",
    "    \"\"\"主函数，初始化visited方便核心函数递归调用\"\"\"\n",
    "    if threshold <= 0 or rows <= 0 or cols <= 0:\n",
    "        return 0\n",
    "    visited = [[False]*cols for _ in range(rows)]\n",
    "    count = movingCountCroe(threshold, rows, cols, 0, 0, visited)\n",
    "    return count\n",
    "\n",
    "\n",
    "# test code\n",
    "print(movingCount(18, 35, 35))"
   ]
  },
  {
   "cell_type": "markdown",
   "metadata": {},
   "source": [
    "# 面试题14：剪绳子\n",
    "题目：给你一根长度为n的绳子，请把绳子剪成m段(m,n都是整数，n>1并且m>1)，每段绳子的长度记为k[0],k[1],...,k[m]。请问k[0]*k[1]*...*k[m]可能的最大乘积是多少？例如，当绳子的长度为8时，我们把他剪成长度分别为2,3,3的三段，此时得到的最大乘积是18.\n",
    "\n",
    "解题思路：因为是最优化问题，且问题可分，可考虑使用动态规划或者贪婪法，详细见代码文档或剑指offer（注：题目中需补充条件，m为任意整数，且切成的绳子长度必须为整数）"
   ]
  },
  {
   "cell_type": "code",
   "execution_count": 5,
   "metadata": {
    "code_folding": [
     0,
     24
    ]
   },
   "outputs": [
    {
     "name": "stdout",
     "output_type": "stream",
     "text": [
      "18\n",
      "18\n"
     ]
    }
   ],
   "source": [
    "def maxProductAfterCutting_solution(length):\n",
    "    \"\"\"动态规划法，从上而下的分析分解问题，自下而上的顺序计算问题\"\"\"\n",
    "    result = [0, 1, 2, 3]\n",
    "    if length < 2:\n",
    "        return 0\n",
    "    elif length < 4:\n",
    "        return result[length - 1]\n",
    "    products = [None]*(length + 1)\n",
    "    for i in result:\n",
    "        products[i] = i\n",
    "    maxValue = 0\n",
    "    for i in range(4, length + 1):\n",
    "        maxValue = 0\n",
    "        j = 1\n",
    "        while j <= i/2:\n",
    "            product = products[j]*products[i-j]\n",
    "            if maxValue < product:\n",
    "                maxValue = product\n",
    "            products[i] = maxValue\n",
    "            j += 1\n",
    "    maxValue = products[length]\n",
    "    return maxValue\n",
    "\n",
    "\n",
    "def maxProductAfterCutting_solution2(length):\n",
    "    \"\"\"贪婪算法，尽可能多的剪长度为3的绳子，当剩下的绳子长度为4时，把绳子剪成两段为2的绳子。\n",
    "    解释：当n>=5时,3*(n-3)>=2*(n-2)>n,故选用上述策略\"\"\"\n",
    "    result = [0, 1, 2, 3]\n",
    "    if length < 2:\n",
    "        return 0\n",
    "    elif length < 4:\n",
    "        return result[length - 1]\n",
    "    timesOf3 = length / 3\n",
    "    if length - timesOf3 * 3 == 1:\n",
    "        timesOf3 -= 1\n",
    "    timesOf2 = (length - timesOf3 * 3) / 2\n",
    "    return int(pow(3, timesOf3))*int(pow(2, timesOf2))\n",
    "\n",
    "\n",
    "# test code\n",
    "print(maxProductAfterCutting_solution(8))\n",
    "print(maxProductAfterCutting_solution2(8))"
   ]
  },
  {
   "cell_type": "markdown",
   "metadata": {},
   "source": [
    "# 面试题15：二进制中1的个数\n",
    "题目：请实现一个函数，输入一个整数，输出该数的二进制表示中1的个数。例如，把9表示成二进制是1001，有2位是1，因此，输入9，则函数输出2.\n"
   ]
  },
  {
   "cell_type": "code",
   "execution_count": 37,
   "metadata": {},
   "outputs": [
    {
     "name": "stdout",
     "output_type": "stream",
     "text": [
      "31\n",
      "31\n"
     ]
    }
   ],
   "source": [
    "def NumberOf1Croe(n):\n",
    "    \"\"\"将1逐位与n按位与，检测该二进制位是否有1，若有则计数。该算法需要循环sizeof(int)次\"\"\"\n",
    "    count =0\n",
    "    flag = 1\n",
    "    while flag <= abs(n):\n",
    "        if n&flag:\n",
    "            count += 1\n",
    "        flag = flag << 1\n",
    "    return count\n",
    "def NumberOf1(n):\n",
    "    \"\"\"计算整数的二进制数中1的个数，由于在python中负数没有用补码表示，故在主函数中另行处理\"\"\"\n",
    "    if n < 0:\n",
    "        return 32 - NumberOf1Croe(abs(n) -1)\n",
    "    else:\n",
    "        return NumberOf1Croe(n)\n",
    "\n",
    "def numberOf1Croe(n):\n",
    "    \"\"\"将一个整数减1，都是把二进制中最右边的1变成0，并且把它右边的所有0变成1，将此数再与原数按位与，相当于将原数二进制数中最右\n",
    "    边的1变成0，整数中有多少个1就可以做多少次这种操作。基于这种思想写出类的算法需要循环count次，即有多少个1循环多少次\"\"\"\n",
    "    count =0\n",
    "    while n:\n",
    "        count += 1\n",
    "        n = (n-1)&n\n",
    "    return count\n",
    "def numberOf1(n):\n",
    "    \"\"\"计算整数的二进制数中1的个数，由于在python中负数没有用补码表示，故在主函数中另行处理\"\"\"\n",
    "    if n <0:\n",
    "        return 32 - numberOf1Croe(abs(n) -1)\n",
    "    else:\n",
    "        return numberOf1Croe(n)\n",
    "\n",
    "#test code\n",
    "print(NumberOf1(-3))\n",
    "print(numberOf1(-3))\n",
    "\n",
    "\"\"\"\n",
    "#将int类型转为补码表示的函数\n",
    "def int2Bin32(i):\n",
    "    return (bin(((1<<32) - 1) & i)[2:]).zfill(32)\n",
    "\"\"\""
   ]
  },
  {
   "cell_type": "markdown",
   "metadata": {},
   "source": [
    "# 面试题16：数值的整数次方\n",
    "题目：实现函数double Power(double base, int exponent)，求base的exponent次方。不得使用库函数，同时不需要考虑大数问题。"
   ]
  },
  {
   "cell_type": "code",
   "execution_count": 17,
   "metadata": {},
   "outputs": [
    {
     "name": "stdout",
     "output_type": "stream",
     "text": [
      "1024\n"
     ]
    }
   ],
   "source": [
    "def PowerWithUnsignedExponent(base, exponent):\n",
    "    \"\"\"使用循环连乘来计算无符号指数\"\"\"\n",
    "    result = 1.0\n",
    "    for i in range(exponent):\n",
    "        result *= base\n",
    "    return result\n",
    "def PowerWithUnsignedExponent2(base, exponent):\n",
    "    \"\"\"递归的将指数拆分成平方，减少乘法的次数，并用右移运算符代替除2，利用按位与运算符来判断函数奇偶\"\"\"\n",
    "    if exponent ==0:\n",
    "        return 1\n",
    "    if exponent == 1:\n",
    "        return base\n",
    "    result = PowerWithUnsignedExponent2(base, exponent >> 1)\n",
    "    result *= result #平方\n",
    "    if exponent & 0x1 == 1:\n",
    "        result *=base\n",
    "    return result\n",
    "\n",
    "g_InvalidInput = False\n",
    "#错误输入指示，在牛客网python编程中，请删除此功能，否则不能通过测试\n",
    "def Power(base, exponent):\n",
    "    \"\"\"主函数。浮点型数据类型不可直接用‘==’判断是否为0，可借助比较较小数1.0e-9来判断\"\"\"\n",
    "    g_InvalidInput = False\n",
    "    if abs(base) < 1.0e-9 and exponent < 0:\n",
    "        g_InvalidInput = True\n",
    "        return 0.0\n",
    "    absExponent = abs(exponent)\n",
    "    result = PowerWithUnsignedExponent2(base, absExponent)\n",
    "    if exponent < 0:\n",
    "        result = 1.0/result\n",
    "    return result\n",
    "\n",
    "#test code \n",
    "base = 2\n",
    "exponent = 10\n",
    "print(Power(base, exponent))"
   ]
  },
  {
   "cell_type": "markdown",
   "metadata": {},
   "source": [
    "# 面试题17：打印从1到最大的n位数\n",
    "题目：输入数字n，按顺序打印出从1到最大的n位十进制数。比如输入3，则打印输出1,2,3一直到最大的3为数999.\n",
    "\n",
    "解题思路：此题涉及到大数问题，python内置类型智能支持大数，但为了表现算法思想不使用python内置大数，转而使用list[str]来表示大数"
   ]
  },
  {
   "cell_type": "code",
   "execution_count": 25,
   "metadata": {},
   "outputs": [
    {
     "name": "stdout",
     "output_type": "stream",
     "text": [
      "1\n",
      "2\n",
      "3\n",
      "4\n",
      "5\n",
      "6\n",
      "7\n",
      "8\n",
      "9\n"
     ]
    }
   ],
   "source": [
    "def PrintNumber(nums):\n",
    "    \"\"\"打印函数，从第一个非零数字开始打印，循环查找第一个非零数字打印并跳出循环\n",
    "    nums必须是list类型\"\"\"\n",
    "    isBeginning = True\n",
    "    for i in range(len(nums)):\n",
    "        if isBeginning and nums[i] != '0':\n",
    "            isBeginning = False\n",
    "        if not isBeginning:\n",
    "            print(''.join(nums[i:]))\n",
    "            break\n",
    "def Increment(nums):\n",
    "    \"\"\"数字自增函数，并判断是否溢出，返回溢出标志，nums必须是list[str]类型，list是可变类型，在传参的时候类似于c++\n",
    "    中传指针，所以无需返回即可修改传入nums中的元素\"\"\"\n",
    "    isOverflow = False\n",
    "    nTakeOver = 0\n",
    "    nLength = len(nums)\n",
    "    for i in range(nLength - 1,-1,-1):\n",
    "        #反向循环[nLength,0]，设置步长为-1即反向\n",
    "        nSum = ord(nums[i]) - ord('0') + nTakeOver\n",
    "        if i == nLength - 1:\n",
    "            nSum += 1\n",
    "        if nSum >= 10:\n",
    "            if i == 0:\n",
    "                isOverflow = True\n",
    "            else:\n",
    "                nSum -= 10\n",
    "                nTakeOver = 1\n",
    "                nums[i] = chr(ord('0') + nSum)\n",
    "        else:\n",
    "            nums[i] = chr(ord('0') + nSum)\n",
    "            break\n",
    "    return isOverflow\n",
    "def PrintToMaxOfNDigits(n):\n",
    "    \"\"\"打印主函数，生成长度为n的list[str]来表示n位数字，可表示任意大的数字\"\"\"\n",
    "    if n <= 0:\n",
    "        return\n",
    "    nums = ['0']*n\n",
    "    while not Increment(nums):\n",
    "        PrintNumber(nums)\n",
    "\n",
    "        \n",
    "def PrintToMaxOfNDigitsRecursively(nums, length, index):\n",
    "    \"\"\"利用排列组合的思想，递归的循环调用函数，打印不同的数字组合\"\"\"\n",
    "    if index == length - 1:\n",
    "        PrintNumber(nums)\n",
    "        return\n",
    "    for i in range(10):\n",
    "        nums[index+1] = chr(ord('0') + i)\n",
    "        PrintToMaxOfNDigitsRecursively(nums, length, index + 1)\n",
    "def PrintToMaxOfNDigits2(n):\n",
    "    \"\"\"打印数字，递归调用版\"\"\"\n",
    "    if n <=0:\n",
    "        return\n",
    "    nums = ['0']*n\n",
    "    for i in range(10):\n",
    "        nums[0] = chr(i+ord('0'))\n",
    "        PrintToMaxOfNDigitsRecursively(nums, len(nums), 0)\n",
    "#test code\n",
    "PrintToMaxOfNDigits(-1)\n",
    "PrintToMaxOfNDigits2(1)"
   ]
  },
  {
   "cell_type": "markdown",
   "metadata": {},
   "source": [
    "# 面试题18：删除链表的节点\n",
    "题目一：在O(1)时间内删除链表节点。\n",
    "给定单向链表的头指针和一个节点指针，定义一个函数在O(1)时间内删除该节点。"
   ]
  },
  {
   "cell_type": "code",
   "execution_count": 17,
   "metadata": {},
   "outputs": [
    {
     "name": "stdout",
     "output_type": "stream",
     "text": [
      "None\n"
     ]
    }
   ],
   "source": [
    "class ListNode:\n",
    "    \"\"\"创建链表类\"\"\"\n",
    "    def __init__(self, x=None):\n",
    "        self.val = x\n",
    "        self.next = None\n",
    "def DeleteNode(pListHead, pToBeDelete):\n",
    "    \"\"\"通过复制的方式删除指定节点，若要删除尾节点，则只能遍历再删除。平均时间复杂度[(n-1)*O(1)+O(n)]/n=O(1)\"\"\"\n",
    "#     print(\"pListHead's id is: \"+str(id(pListHead)))\n",
    "#     print(\"pToBeDelete's id is: \"+str(id(pToBeDelete)))\n",
    "    if not pListHead or not pToBeDelete:\n",
    "        return\n",
    "    if pToBeDelete.next != None:\n",
    "        pNext = pToBeDelete.next\n",
    "        pToBeDelete.val = pNext.val\n",
    "#         print(\"pToBeDelete.val's id is: \"+str(id(pToBeDelete.val)))\n",
    "        pToBeDelete.next = pNext.next\n",
    "    elif pListHead == pToBeDelete:\n",
    "        pListHead.val = None\n",
    "        pListHead.next = None\n",
    "#         pListHead = ListNode()\n",
    "#         print(\"pListHead's id is: \"+str(id(pListHead)))\n",
    "    else:\n",
    "        pNode = pListHead\n",
    "        while pNode.next != pToBeDelete:\n",
    "            pNode = pNode.next\n",
    "        pNode.next = None\n",
    "#     return pListHead\n",
    "##创建链表\n",
    "head = ListNode('head->')\n",
    "# print(\"head's id is: \"+str(id(head)))\n",
    "#可变对象直接赋值就是浅拷贝，相当于c++中传递地址\n",
    "pnode = head\n",
    "# print(\"pnode's id is: \"+str(id(pnode)))\n",
    "valueList = list('')\n",
    "for i in valueList:\n",
    "    pnode.next = ListNode(i)\n",
    "    pnode = pnode.next\n",
    "#     print(\"pnode's id is: \"+str(id(pnode)))\n",
    "# gnode = ListNode('1')\n",
    "DeleteNode(head, pnode)    \n",
    "#验证链表用代码\n",
    "# print(gnode.val)\n",
    "rnode = head\n",
    "while rnode != None:\n",
    "    print(rnode.val)\n",
    "    rnode = rnode.next\n",
    "\n",
    "\"\"\"\n",
    "！！！注：python传参与c++中常引用传参相似，对于可变对象，不可直接改变对象本身，但可改变对象内置的值,如直接\n",
    "改链表头不可行，但可以改链表头的值及其他未传入的节点，若一定要改链表头则只能通过返回值的方式进行，例如list对象\n",
    "\"\"\""
   ]
  },
  {
   "cell_type": "markdown",
   "metadata": {},
   "source": [
    "题目二：删除链表中重复的节点。"
   ]
  },
  {
   "cell_type": "code",
   "execution_count": null,
   "metadata": {},
   "outputs": [],
   "source": [
    "#该算法仅能删除相邻重复节点，比如[1,2,3,4,1]首位节点重复就不会被删除，故不作深入测试\n",
    "def DeleteDuplication(phead):\n",
    "    if phead.val == None:\n",
    "        return\n",
    "    pPreNode = None\n",
    "    pNode = phead\n",
    "    while pNode != None:\n",
    "        pNext = pNode.next\n",
    "        needDelete = False\n",
    "        if pNext != None and pNext.val == pNode.val:\n",
    "            needDelete = True\n",
    "        if not needDelete:\n",
    "            pPreNode = pNode\n",
    "            pNode = pNode.next\n",
    "        else:\n",
    "            value = pNode.val\n",
    "            pToBeDel = pNode\n",
    "            while pToBeDel != None and pToBeDel.val == value:\n",
    "                pNext = pToBeDel.next\n",
    "                del pToBeDel\n",
    "                pToBeDel = None\n",
    "                pToBeDel = pNext\n",
    "            if pPreNode == None:\n",
    "                phead = pNext\n",
    "            else:\n",
    "                pPreNode.next = pNext\n",
    "            pNode = pNext\n"
   ]
  },
  {
   "cell_type": "markdown",
   "metadata": {},
   "source": [
    "# 面试题19：正则表达式匹配\n",
    "题目：请实现一个函数用来匹配包含\".\"和\"\\*\"的正则表达式。模式中的字符\".\"表示任意一个字符，而\"\\*\"表示它前面的字符可以出现任意次(含0次)。在本题中，匹配是指字符串的所有字符匹配整个模式。例如，字符串\"aaa\"与模式\"a.a\"和\"ab\\*ac\\*a\"匹配，但与\"aa.a\"和\"ab\\*a\"均不匹配。"
   ]
  },
  {
   "cell_type": "code",
   "execution_count": 12,
   "metadata": {},
   "outputs": [
    {
     "name": "stdout",
     "output_type": "stream",
     "text": [
      "True\n"
     ]
    }
   ],
   "source": [
    "class Solution:\n",
    "    def matchCore(self, strs, pattern):\n",
    "        \"\"\"递归探索每一种情况\"\"\"\n",
    "        if not strs and not pattern:\n",
    "            return True\n",
    "        if strs and not pattern:\n",
    "            return False\n",
    "        if len(pattern) > 1 and pattern[1] == '*':\n",
    "            if strs and (pattern[0] == strs[0] or pattern[0] == '.'):\n",
    "                return self.matchCore(strs[1:],pattern[2:]) or self.matchCore(strs[1:],pattern) or self.matchCore(strs, pattern[2:])\n",
    "            else:\n",
    "                return self.matchCore(strs, pattern[2:])\n",
    "        if strs and (strs[0] == pattern[0] or pattern[0] == '.'):\n",
    "            return self.matchCore(strs[1:], pattern[1:])\n",
    "        return False\n",
    "    def match(self, s, pattern):\n",
    "        if s == None or pattern == None:\n",
    "            return False\n",
    "        return self.matchCore(s, pattern)\n",
    "a = Solution()\n",
    "print(a.match('aaa', 'a.a'))"
   ]
  },
  {
   "cell_type": "markdown",
   "metadata": {},
   "source": [
    "# 面试题20：表示数值的字符串\n",
    "题目：请实现一个函数用来判断字符串是否表示数值(包括整数和小数)。例如，字符串\"+100\",\"5e2\",\"-123\",\"3.1416\",\"-1E-16\"都表示数值，但\"12e\",\"1a3.14\",\"1.2.3\",\"+-5\",\"12e+5.4\"都不是"
   ]
  },
  {
   "cell_type": "code",
   "execution_count": 1,
   "metadata": {},
   "outputs": [
    {
     "name": "stdout",
     "output_type": "stream",
     "text": [
      "True\n"
     ]
    }
   ],
   "source": [
    "class Solution:\n",
    "    def scanUnsignedInterger(self, strs):\n",
    "        \"\"\"对传入字符串从头计算是无符号数字的长度，返回长度\"\"\"\n",
    "        if not strs:\n",
    "            return 0\n",
    "        i = 0\n",
    "        while i >= 0 and i < len(strs) and strs[i] >= '0' and strs[i] <= '9':\n",
    "            i += 1\n",
    "        return i\n",
    "    def scanInteger(self, strs):\n",
    "        \"\"\"对传入字符串从头计算有符号数字的长度，返回长度\"\"\"\n",
    "        if not strs:\n",
    "            return 0\n",
    "        if strs[0] in '-+':\n",
    "            return 1 + self.scanUnsignedInterger(strs[1:])\n",
    "        return self.scanUnsignedInterger(strs)\n",
    "    def isNumeric(self, s):\n",
    "        \"\"\"使用index表示首个未进行遍历的字符的索引，使用temp变量表示上一个匹配的长度，为应对index有可能超出字符串长度，\n",
    "        每次进行判断之前先进行判断是否溢出\"\"\"\n",
    "        if not s:\n",
    "            return False\n",
    "        index = 0\n",
    "        temp = self.scanInteger(s)\n",
    "        numeric = temp > 0\n",
    "        index += temp\n",
    "        if index < len(s) and s[index] == '.':\n",
    "            index += 1\n",
    "            temp = self.scanUnsignedInterger(s[index:])\n",
    "            numeric = temp or numeric\n",
    "            index += temp\n",
    "        if index < len(s) and (s[index] == 'e' or s[index] == 'E'):\n",
    "            index += 1\n",
    "            temp = self.scanInteger(s[index:])\n",
    "            numeric = numeric and temp\n",
    "            index += temp\n",
    "        return bool(numeric) and index == len(s)\n",
    "#test code \n",
    "a_test = Solution()\n",
    "print(a_test.isNumeric('+100'))"
   ]
  },
  {
   "cell_type": "markdown",
   "metadata": {},
   "source": [
    "# 面试题21：调整数组顺序使奇数位于偶数前面\n",
    "题目：输入一个整数数组，实现一个函数来调整该数组中数字的顺序，使得所有的奇数位于数组的前半部分，所有的偶数位于数组的后半部分。"
   ]
  },
  {
   "cell_type": "code",
   "execution_count": 2,
   "metadata": {},
   "outputs": [
    {
     "name": "stdout",
     "output_type": "stream",
     "text": [
      "[1, 9, 3, 7, 5, 6, 4, 8, 2]\n"
     ]
    }
   ],
   "source": [
    "class Solution:\n",
    "    def reOrderArray(self, array):\n",
    "        \"\"\"对撞指针法，发现不符合要求的元素则与另一不符合要求的元素调换顺序\"\"\"\n",
    "        if not array:\n",
    "            return\n",
    "        pBegin = 0\n",
    "        pEnd = len(array) - 1\n",
    "        while pBegin < pEnd:\n",
    "            while pBegin < pEnd and array[pBegin] & 0x1 != 0:\n",
    "                pBegin += 1\n",
    "            while pBegin < pEnd and array[pEnd] & 0x1 == 0:\n",
    "                pEnd -= 1\n",
    "            if pBegin < pEnd:\n",
    "                temp = array[pBegin]\n",
    "                array[pBegin] = array[pEnd]\n",
    "                array[pEnd] = temp\n",
    "#test code\n",
    "a_test = Solution()\n",
    "b_list = [1,2,3,4,5,6,7,8,9]\n",
    "a_test.reOrderArray(b_list)\n",
    "print(b_list)"
   ]
  },
  {
   "cell_type": "code",
   "execution_count": 3,
   "metadata": {},
   "outputs": [
    {
     "name": "stdout",
     "output_type": "stream",
     "text": [
      "[1, 9, 3, 7, 5, 6, 4, 8, 2]\n"
     ]
    }
   ],
   "source": [
    "class Solution:\n",
    "    \"\"\"将判断函数解耦分离出来，可以让程序具有更好的通用性\"\"\"\n",
    "    def _isEven(self, n):\n",
    "        \"\"\"判断函数\"\"\"\n",
    "        return (n&1) == 0\n",
    "    def reOrderArray(self, array):\n",
    "        \"\"\"主函数，指针对撞，交换不符合条件的值\"\"\"\n",
    "        if not array:\n",
    "            return\n",
    "        pBegin = 0\n",
    "        pEnd = len(array) - 1\n",
    "        while pBegin < pEnd:\n",
    "            while pBegin < pEnd and not self._isEven(array[pBegin]):\n",
    "                pBegin += 1\n",
    "            while pBegin < pEnd and self._isEven(array[pEnd]):\n",
    "                pEnd -= 1\n",
    "            if pBegin < pEnd:\n",
    "                temp = array[pBegin]\n",
    "                array[pBegin] = array[pEnd]\n",
    "                array[pEnd] = temp\n",
    "#test code\n",
    "a_test = Solution()\n",
    "b_list = [1,2,3,4,5,6,7,8,9]\n",
    "a_test.reOrderArray(b_list)\n",
    "print(b_list)"
   ]
  },
  {
   "cell_type": "code",
   "execution_count": null,
   "metadata": {},
   "outputs": [],
   "source": [
    "#注意牛客网上增加了附加条件，奇数与奇数之间，偶数与偶数之间的相对位置不能改变，目前暂无较好的解法\n",
    "class Solution:\n",
    "    def reOrderArray(self, array):\n",
    "        # write code here\n",
    "        count = 0\n",
    "        for i in range(0,len(array)):\n",
    "            for j in range(len(array)-1,i,-1):\n",
    "                if array[j-1]%2 ==0 and array[j]%2==1:\n",
    "                    array[j], array[j-1]= array[j-1], array[j]\n",
    "        return array"
   ]
  },
  {
   "cell_type": "markdown",
   "metadata": {},
   "source": [
    "# 面试题22：链表中倒数第K个节点\n",
    "题目：输入一个链表，输出该链表中倒数第k个节点。为了符合大多数人的习惯，本题从1开始计数，即链表的尾节点是倒数第一个节点。例如，一个链表有6个节点，从头结点开始，它们的值依次是1,2,3,4,5,6。这个链表的倒数第三个节点是值为4的节点。"
   ]
  },
  {
   "cell_type": "code",
   "execution_count": null,
   "metadata": {},
   "outputs": [],
   "source": [
    "class ListNode:\n",
    "    \"\"\"创建链表类\"\"\"\n",
    "    def __init__(self, x=None):\n",
    "        self.val = x\n",
    "        self.next = None\n",
    "class Solution:\n",
    "    def FindKthToTail(self, head, k):\n",
    "        if head is None or k <= 0:\n",
    "            return None\n",
    "        pAHead = head\n",
    "        for i in range(k-1):\n",
    "            if pAHead.next != None:\n",
    "                pAHead = pAHead.next\n",
    "            else:\n",
    "                return None\n",
    "        pBHead = head\n",
    "        while pAHead.next != None:\n",
    "            pAHead = pAHead.next\n",
    "            pBHead = pBHead.next\n",
    "        return pBHead\n",
    "#test code\n",
    "#牛客网已通过测试"
   ]
  },
  {
   "cell_type": "markdown",
   "metadata": {},
   "source": [
    "# 面试题23：链表中环的入口节点\n",
    "题目：如果一个链表中包含环，如何找出环的入口节点？例如在如图3.8所示的链表中，环的入口节点是3\n",
    "1->2->3->4->5->6 and 6->3"
   ]
  },
  {
   "cell_type": "code",
   "execution_count": null,
   "metadata": {},
   "outputs": [],
   "source": [
    "class Solution:\n",
    "    def MeetingNode(self, pHead):\n",
    "        \"\"\"利用速度不同的双指针，检查链表中是否包含环，若包含则返回环中的节点\"\"\"\n",
    "        if pHead == None:\n",
    "            return None\n",
    "        pSlow = pHead.next\n",
    "        if pSlow == None:\n",
    "            return None\n",
    "        pFast = pSlow.next\n",
    "        while pFast != None and pSlow != None:\n",
    "            if pFast == pSlow:\n",
    "                return pFast\n",
    "            pSlow = pSlow.next\n",
    "            pFast = pFast.next\n",
    "            if pFast != None:\n",
    "                pFast = pFast.next\n",
    "        return None\n",
    "    def EntryNodeOfLoop(self, pHead):\n",
    "        \"\"\"获取环中的节点，并循环统计环中包含节点的个数nodesInLoop，再利用间隔nodesInLoop个节点的指针对撞，判断入口\"\"\"\n",
    "        meetingNode = self.MeetingNode(pHead)\n",
    "        if meetingNode == None:\n",
    "            return None\n",
    "        nodesInLoop = 1\n",
    "        pNode1 = meetingNode\n",
    "        while pNode1.next != meetingNode:\n",
    "            pNode1 = pNode1.next\n",
    "            nodesInLoop += 1\n",
    "        pNode1 = pHead\n",
    "        for i in range(nodesInLoop):\n",
    "            pNode1 = pNode1.next\n",
    "        pNode2 = pHead\n",
    "        while pNode1 != pNode2:\n",
    "            pNode1 = pNode1.next\n",
    "            pNode2 = pNode2.next\n",
    "        return pNode1\n",
    "    \n",
    "#test code \n",
    "#牛客网上已通过测试"
   ]
  },
  {
   "cell_type": "markdown",
   "metadata": {},
   "source": [
    "# 面试题24：反转链表\n",
    "题目：定义一个函数，输入一个链表的头节点，反转该链表并输出反转后的链表的头结点。"
   ]
  },
  {
   "cell_type": "code",
   "execution_count": null,
   "metadata": {},
   "outputs": [],
   "source": [
    "class Solution:\n",
    "    # 返回ListNode\n",
    "    def ReverseList(self, pHead):\n",
    "        \"\"\"利用三个指针分别指向当前指针的前和后节点，以防止链表反转时断裂，并初始化反转后链表的头节点和前节点，\n",
    "        以防返回出错\"\"\"\n",
    "        pReversedHead = None\n",
    "        pNode = pHead\n",
    "        pPrev = None\n",
    "        while pNode != None:\n",
    "            pNext = pNode.next\n",
    "            if pNext == None:\n",
    "                pReversedHead = pNode\n",
    "            pNode.next = pPrev\n",
    "            pPrev = pNode\n",
    "            pNode = pNext\n",
    "        return pReversedHead\n",
    "#test code\n",
    "#代码通过牛客网测试"
   ]
  },
  {
   "cell_type": "markdown",
   "metadata": {},
   "source": [
    "# 面试题25：合并两个排序的链表\n",
    "题目：输入两个递增排序的链表，合并这两个链表并使新链表中的节点仍然是递增排序的。"
   ]
  },
  {
   "cell_type": "code",
   "execution_count": null,
   "metadata": {},
   "outputs": [],
   "source": [
    "class Solution:\n",
    "    # 返回合并后列表\n",
    "    def Merge(self, pHead1, pHead2):\n",
    "        \"\"\"递归比较每一个节点的值，并将较小的节点加入新的链表中\"\"\"\n",
    "        if pHead1 == None:\n",
    "            return pHead2\n",
    "        elif pHead2 == None:\n",
    "            return pHead1\n",
    "        pMergedHead = None\n",
    "        if pHead1.val < pHead2.val:\n",
    "            pMergedHead = pHead1\n",
    "            pMergedHead.next = self.Merge(pHead1.next, pHead2)\n",
    "        else:\n",
    "            pMergedHead = pHead2\n",
    "            pMergedHead.next = self.Merge(pHead1, pHead2.next)\n",
    "        return pMergedHead\n",
    "#test code\n",
    "#牛客网已通过测试"
   ]
  },
  {
   "cell_type": "markdown",
   "metadata": {},
   "source": [
    "# 面试题26：树的子结构\n",
    "题目：输入两颗二叉树A和B，判断B是不是A的子结构。"
   ]
  },
  {
   "cell_type": "code",
   "execution_count": null,
   "metadata": {},
   "outputs": [],
   "source": [
    "class Solution:\n",
    "    def Equal(self, num1, num2):\n",
    "        \"\"\"定义通用的比较函数，可以兼容更多不同类型的存储值\"\"\"\n",
    "        if abs(num1 - num2) < 1E-7:\n",
    "            return True\n",
    "        else:\n",
    "            return False\n",
    "    def DoesTree1HaveTree2(self, pRoot1, pRoot2):\n",
    "        \"\"\"递归比较，两颗子树的值\"\"\"\n",
    "        if pRoot2 == None:\n",
    "            return True\n",
    "        if pRoot1 == None:\n",
    "            return False\n",
    "        if not self.Equal(pRoot1.val, pRoot2.val):\n",
    "            return False\n",
    "        return self.DoesTree1HaveTree2(pRoot1.left, pRoot2.left) and \\\n",
    "    self.DoesTree1HaveTree2(pRoot1.right, pRoot2.right)\n",
    "    \n",
    "    def HasSubtree(self, pRoot1, pRoot2):\n",
    "        \"\"\"递归的进行先根序遍历，从根节点开始对值进行比较\"\"\"\n",
    "        result = False\n",
    "        if pRoot1 != None and pRoot2 != None:\n",
    "            if self.Equal(pRoot1.val, pRoot2.val):\n",
    "                result = self.DoesTree1HaveTree2(pRoot1, pRoot2)\n",
    "            if not result:\n",
    "                result = self.HasSubtree(pRoot1.left, pRoot2)\n",
    "            if not result:\n",
    "                result = self.HasSubtree(pRoot1.right, pRoot2)\n",
    "        return result\n",
    "# test code\n",
    "# 已在牛客网通过测试"
   ]
  },
  {
   "cell_type": "markdown",
   "metadata": {},
   "source": [
    "# 面试题27：二叉树的镜像\n",
    "题目：请完成一个函数，输入一颗二叉树，输出它的镜像。"
   ]
  },
  {
   "cell_type": "code",
   "execution_count": null,
   "metadata": {},
   "outputs": [],
   "source": [
    "class Solution:\n",
    "    def Mirror(self, root):\n",
    "        \"\"\"递归的交换二叉树的左右子树，遇叶子节点停止递归\"\"\"\n",
    "        if root == None:\n",
    "            return\n",
    "        if root.left == None and root.right == None:\n",
    "            return\n",
    "        pTemp = root.left\n",
    "        root.left = root.right\n",
    "        root.right = pTemp\n",
    "        if root.left:\n",
    "            self.Mirror(root.left)\n",
    "        if root.right:\n",
    "            self.Mirror(root.right)\n",
    "# test code\n",
    "# 已在牛客网通过测试"
   ]
  },
  {
   "cell_type": "markdown",
   "metadata": {},
   "source": [
    "# 面试题28：对称的二叉树\n",
    "题目：请实现一个函数，用来判断一颗二叉树是不是对称的。如果一颗二叉树和它的镜像一样，那么它是对称的。"
   ]
  },
  {
   "cell_type": "code",
   "execution_count": null,
   "metadata": {},
   "outputs": [],
   "source": [
    "class Solution:\n",
    "    def isSymmetricalCore(self, pRoot1, pRoot2):\n",
    "        \"\"\"递归比较前序遍历和对称前序遍历序列的值，若相同，则为对称二叉树\"\"\"\n",
    "        if pRoot1 == None and pRoot2 == None:\n",
    "            return True\n",
    "        if pRoot1 == None or pRoot2 == None:\n",
    "            return False\n",
    "        if pRoot1.val != pRoot2.val:\n",
    "            return False\n",
    "        return self.isSymmetricalCore(pRoot1.left,pRoot2.right) and self.isSymmetricalCore(pRoot1.right, pRoot2.left)\n",
    "    def isSymmetrical(self, pRoot):\n",
    "        \"\"\"调用核心函数，利用传参避免指向同一个对象\"\"\"\n",
    "        return self.isSymmetricalCore(pRoot, pRoot)\n",
    "    \n",
    "# test code\n",
    "# 已在牛客网上通过测试"
   ]
  },
  {
   "cell_type": "markdown",
   "metadata": {},
   "source": [
    "# 面试题29：顺时针打印矩阵\n",
    "题目：输入一个举着，按照从外向里以顺时针的顺序依次打印出每一个数字。例如：\n",
    "[[1,2,3,4]\n",
    "[5,6,7,8]\n",
    "[9,10,11,12]\n",
    "[13,14,15,16]]则依次打印出数字1,2,3,4,8,12,16,15,14,13,9,5,6,7,11,10。"
   ]
  },
  {
   "cell_type": "code",
   "execution_count": null,
   "metadata": {},
   "outputs": [],
   "source": [
    "class Solution:\n",
    "    def PrintMatrixInCircle(self, matrix, start, result):\n",
    "        \"\"\"根据给定的start打印二维矩阵的一圈，并将其存入result中，因为result是列表、可变类型，函数不返回\n",
    "        任何参数也可对传入的result中的元素进行修改\"\"\"\n",
    "        endX = len(matrix[0]) - 1 - start\n",
    "        endY = len(matrix) - 1 - start\n",
    "        #从左到右打印一行\n",
    "        for i in range(start, endX + 1):\n",
    "            number = matrix[start][i]\n",
    "            result.append(number)\n",
    "        #从上到下打印一列\n",
    "        if start < endY:\n",
    "            for i in range(start + 1, endY + 1):\n",
    "                number = matrix[i][endX]\n",
    "                result.append(number)\n",
    "        #从右到左打印一行\n",
    "        if start < endX and start < endY:\n",
    "            for i in range(endX - 1, start - 1, -1):\n",
    "                number = matrix[endY][i]\n",
    "                result.append(number)\n",
    "        #从下到上打印一列\n",
    "        if start < endX and start < endY - 1:\n",
    "            for i in range(endY - 1, start, -1):\n",
    "                number = matrix[i][start]\n",
    "                result.append(number)\n",
    "\n",
    "    def printMatrix(self, matrix):\n",
    "        \"\"\"循环打印每一圈矩阵\"\"\"\n",
    "        result = []\n",
    "        if not matrix or len(matrix) < 0 or len(matrix[0]) < 0:\n",
    "            return result\n",
    "        start = 0\n",
    "        while len(matrix[0]) > start*2 and len(matrix) > start*2:\n",
    "            self.PrintMatrixInCircle(matrix, start, result)\n",
    "            start += 1\n",
    "        return result\n",
    "# test code\n",
    "# 已在牛客网通过测试"
   ]
  },
  {
   "cell_type": "markdown",
   "metadata": {},
   "source": [
    "# 面试题30：包含min函数的栈\n",
    "题目：定义栈的数据结构，请在该类型中实现一个能够得到栈的最小元素的min函数。在该栈中，调用min、push、pop的时间复杂度都是O(1)。"
   ]
  },
  {
   "cell_type": "code",
   "execution_count": null,
   "metadata": {},
   "outputs": [],
   "source": [
    "class Solution:\n",
    "    \"\"\"维护一个和data相同大小的辅助栈，用来存储最小值\"\"\"\n",
    "    def __init__(self):\n",
    "        self.m_data = []\n",
    "        self.m_min = []\n",
    "    def push(self, node):\n",
    "        \"\"\"压入数据的同时维护辅助栈，使的辅助栈中存储的最小值始终和数据栈中具有相同的位置\"\"\"\n",
    "        self.m_data.append(node)\n",
    "        if len(self.m_min) == 0 or node < self.m_min[-1]:\n",
    "            self.m_min.append(node)\n",
    "        else:\n",
    "            self.m_min.append(self.m_min[-1])\n",
    "    def pop(self):\n",
    "        if len(self.m_min) > 0 and len(self.m_data) > 0:\n",
    "            self.m_data.pop(-1)\n",
    "            self.m_min.pop(-1)\n",
    "        else:\n",
    "            assert Exception(\"data is empty\")\n",
    "    def top(self):\n",
    "        return self.m_data[-1]\n",
    "    def min(self):\n",
    "        return self.m_min[-1]\n",
    "    \n",
    "# test code\n",
    "# 已在牛客网通过测试"
   ]
  },
  {
   "cell_type": "markdown",
   "metadata": {},
   "source": [
    "# 面试题31：栈的压入、弹出序列\n",
    "题目：输入两个整数的序列，第一个序列表示栈的压入顺序，请判断第二个序列是否为该栈的弹出顺序。假设压入栈的所有数字均不相等。例如，序列[1,2,3,4,5]是某栈的压入序列，序列[4,5,3,2,1]是该压栈序列对应的一个弹出序列，但[4,3,5,1,2]就不可能是该压栈序列的弹出序列。"
   ]
  },
  {
   "cell_type": "code",
   "execution_count": null,
   "metadata": {},
   "outputs": [],
   "source": [
    "class Solution:\n",
    "    def IsPopOrder(self, pushV, popV):\n",
    "        \"\"\"利用辅助栈模拟栈的压入和弹出，与弹出序列比较若不符合则返回False\"\"\"\n",
    "        bPossible = False\n",
    "        if pushV != None and popV != None:\n",
    "            pNextPush = 0\n",
    "            pNextPop = 0\n",
    "            stackData = []\n",
    "            nLength = len(pushV)\n",
    "            while pNextPop < nLength:\n",
    "                while not stackData or stackData[-1] != popV[pNextPop]:\n",
    "                    if pNextPush == nLength:\n",
    "                        break\n",
    "                    stackData.append(pushV[pNextPush])\n",
    "                    pNextPush += 1\n",
    "                if stackData[-1] != popV[pNextPop]:\n",
    "                    break\n",
    "                stackData.pop(-1)\n",
    "                pNextPop += 1\n",
    "            if not stackData and pNextPop == nLength:\n",
    "                bPossible = True\n",
    "        return bPossible\n",
    "# test code\n",
    "# 已在牛客网通过测试"
   ]
  },
  {
   "cell_type": "markdown",
   "metadata": {},
   "source": [
    "# 面试题32：从上到下打印二叉树\n",
    "+ 题目一：不分行从上到下打印二叉树  \n",
    "从上到下打印出二叉树的每个节点，同一层的节点按照从左到右收尾顺序打印。"
   ]
  },
  {
   "cell_type": "code",
   "execution_count": 5,
   "metadata": {},
   "outputs": [
    {
     "data": {
      "text/plain": [
       "[2, 3, 4]"
      ]
     },
     "execution_count": 5,
     "metadata": {},
     "output_type": "execute_result"
    }
   ],
   "source": [
    "class Solution:\n",
    "    def PrintFromTopToBottom(self, root):\n",
    "        \"\"\"利用队列的先进先出原则，顺序存储要打印的数值\"\"\"\n",
    "        result = []\n",
    "        if not root:\n",
    "            return result\n",
    "        dequeTreeNode = []\n",
    "        dequeTreeNode.append(root)\n",
    "        while len(dequeTreeNode):\n",
    "            pNode = dequeTreeNode.pop(0)\n",
    "            result.append(pNode.val)\n",
    "            if pNode.left:\n",
    "                dequeTreeNode.append(pNode.left)\n",
    "            if pNode.right:\n",
    "                dequeTreeNode.append(pNode.right)\n",
    "        return result\n",
    "# test code\n",
    "# 已在牛客网通过测试"
   ]
  },
  {
   "cell_type": "markdown",
   "metadata": {},
   "source": [
    "+ 题目二：分行从上到下打印二叉树  \n",
    "从上到下按层打印二叉树，同一层的节点按照从左到右的顺序打印，每一层打印一行。"
   ]
  },
  {
   "cell_type": "code",
   "execution_count": null,
   "metadata": {},
   "outputs": [],
   "source": [
    "class Solution:\n",
    "    # 返回二维列表[[1,2],[4,5]]\n",
    "    def Print(self, pRoot):\n",
    "        \"\"\"在利用队列的基础上，额外加两个变量表示下一行的节点数和当前行剩余位打印节点数\"\"\"\n",
    "        result = [[]]\n",
    "        if not pRoot:\n",
    "            return []\n",
    "        nodes = []\n",
    "        nodes.append(pRoot)\n",
    "        nextLevel = 0\n",
    "        toBePrinted = 1\n",
    "        while nodes:\n",
    "            pNode = nodes.pop(0)\n",
    "            result[-1].append(pNode.val)\n",
    "            if pNode.left:\n",
    "                nodes.append(pNode.left)\n",
    "                nextLevel += 1\n",
    "            if pNode.right:\n",
    "                nodes.append(pNode.right)\n",
    "                nextLevel += 1\n",
    "            toBePrinted -= 1\n",
    "            if toBePrinted == 0 and nextLevel != 0:\n",
    "                result.append([])\n",
    "                toBePrinted = nextLevel\n",
    "                nextLevel = 0\n",
    "        return result\n",
    "# test code\n",
    "# 已在牛客网通过测试"
   ]
  },
  {
   "cell_type": "markdown",
   "metadata": {},
   "source": [
    "+ 题目三：之字形打印二叉树  \n",
    "请实现一个函数按照之字形顺序打印二叉树，即第一行按照从左到右的顺序打印，第二层按照从右到左的顺序打印，第三行再按照从左到右的顺序打印，其他行以此类推。"
   ]
  },
  {
   "cell_type": "code",
   "execution_count": null,
   "metadata": {},
   "outputs": [],
   "source": [
    "class Solution:\n",
    "    # 返回二维列表[[1,2],[4,5]]\n",
    "    def Print(self, pRoot):\n",
    "        \"\"\"利用栈的先进后出原则，使用两个栈分别存储当前行和下一行，在弹出元素的同时压入下一行元素到另一个栈中\"\"\"\n",
    "        if not pRoot:\n",
    "            return []\n",
    "        result = [[]]\n",
    "        levels = [[],[]]\n",
    "        current = 0\n",
    "        next = 1\n",
    "        levels[current].append(pRoot)\n",
    "        while levels[0] or levels[1]:\n",
    "            pNode = levels[current].pop()\n",
    "            result[-1].append(pNode.val)\n",
    "            if current == 0:\n",
    "                if pNode.left:\n",
    "                    levels[next].append(pNode.left)\n",
    "                if pNode.right:\n",
    "                    levels[next].append(pNode.right)\n",
    "            else:\n",
    "                if pNode.right:\n",
    "                    levels[next].append(pNode.right)\n",
    "                if pNode.left:\n",
    "                    levels[next].append(pNode.left)\n",
    "            if not levels[current] and levels[next]:\n",
    "                result.append([])\n",
    "                current = 1 - current\n",
    "                next = 1 - next\n",
    "        return result\n",
    "# test code\n",
    "# 代码已在牛客网通过测试"
   ]
  },
  {
   "cell_type": "markdown",
   "metadata": {},
   "source": [
    "# 面试题33：二叉搜索树的后序遍历序列\n",
    "题目：输入一个整数数组，判断该数组是不是某二叉搜索树的后序遍历结果。如果是则返回true，否则返回false。假设输入的数组的任意两个数字互不相同。"
   ]
  },
  {
   "cell_type": "code",
   "execution_count": 1,
   "metadata": {},
   "outputs": [
    {
     "data": {
      "text/plain": [
       "[1, 2]"
      ]
     },
     "execution_count": 1,
     "metadata": {},
     "output_type": "execute_result"
    }
   ],
   "source": [
    "class Solution:\n",
    "    def VerifySquenceOfBST(self, sequence):\n",
    "        \"\"\"先提取末尾元素作为根节点，然后递归验证左右子树\"\"\"\n",
    "        if not sequence:\n",
    "            return False\n",
    "        root = sequence[-1]\n",
    "        i = 0\n",
    "        #使用while循环使的i总是指向第一个非左子树元素\n",
    "        while i < len(sequence) - 1:\n",
    "            if sequence[i] > root:\n",
    "                break\n",
    "            i += 1\n",
    "        for j in range(i, len(sequence) - 1):\n",
    "            if sequence[j] < root:\n",
    "                return False\n",
    "        left = True\n",
    "        if i > 0:\n",
    "            left = self.VerifySquenceOfBST(sequence[:i])\n",
    "        right = True\n",
    "        if i < len(sequence) - 1:\n",
    "            right = self.VerifySquenceOfBST(sequence[i:-1])\n",
    "        return left and right\n",
    "# test code\n",
    "# 代码已在牛客网测试通过"
   ]
  },
  {
   "cell_type": "markdown",
   "metadata": {},
   "source": [
    "# 面试题34：二叉树中和为某一值的路径\n",
    "题目：输入一颗二叉树和一个整数，打印出二叉树中节点值的和为输入整数的所有路径。从树的根节点开始往下一直到叶节点所经过的节点形成一条路径"
   ]
  },
  {
   "cell_type": "code",
   "execution_count": null,
   "metadata": {},
   "outputs": [],
   "source": [
    "class Solution:\n",
    "    # 返回二维列表，内部每个列表表示找到的路径\n",
    "    def FindPathCore(self,root, expectNumber, path, result):\n",
    "        \"\"\"递归遍历左子树、右子树，path列表记录一次遍历路径，result列表记录符合条件的路径，因path，result都是可变类型\n",
    "        故，函数中可不设返回值就能进行参数传递。另由于二叉树一般填满左子树再填充右子树，故先检查左子数，再检查右子树即可满足\n",
    "        牛客网中较长的路径在前，较短路径在后的要求，但此方法对一般二叉树不适用，还有改进空间\"\"\"\n",
    "        path.append(root.val)\n",
    "        if sum(path) == expectNumber and (root.left == None and root.right == None):\n",
    "            #找到一个匹配的路径\n",
    "            #使用path[:]的方式浅拷贝列表到result中，避免直接使用path(引用)造成后续path发生变化，引起result也改变。\n",
    "            #注：path中元素为基本常量类型时可采用此方法，否侧需要使用深拷贝\n",
    "            result.append(path[:])\n",
    "        if root.left != None:\n",
    "            self.FindPathCore(root.left,expectNumber,path, result)\n",
    "        if root.right != None:\n",
    "            self.FindPathCore(root.right,expectNumber,path,result)\n",
    "        path.pop()\n",
    "    def FindPath(self, root, expectNumber):\n",
    "        \"\"\"主函数，检查输入节点是否为空\"\"\"\n",
    "        if not root:\n",
    "            return []\n",
    "        path = []\n",
    "        result = []\n",
    "        self.FindPathCore(root, expectNumber,path, result)\n",
    "        return result\n",
    "# test code\n",
    "# 代码已在牛客网通过测试"
   ]
  },
  {
   "cell_type": "markdown",
   "metadata": {},
   "source": [
    "# 面试题35：复杂链表的复制\n",
    "题目：请实现函数，复制一个复杂链表。在复杂链表中，每个节点除了有一个next指针指向下一个节点，还有一个pSibling指针指向链表中的任意节点或者nullptr"
   ]
  },
  {
   "cell_type": "code",
   "execution_count": null,
   "metadata": {},
   "outputs": [],
   "source": [
    "class Solution:\n",
    "    # 返回 RandomListNode\n",
    "    def CloneNodes(self,phead):\n",
    "        \"\"\"在原有的链表基础上进行赋值，即将每个节点沿着next链复制一个\"\"\"\n",
    "        pNode = phead\n",
    "        while pNode != None:\n",
    "            pCloned = RandomListNode(None)\n",
    "            pCloned.label = pNode.label\n",
    "            pCloned.next = pNode.next\n",
    "            pCloned.random = None\n",
    "            pNode.next = pCloned\n",
    "            pNode = pCloned.next\n",
    "    def ConnetSiblingNodes(self, pHead):\n",
    "        \"\"\"修复复制后链表节点的random链接\"\"\"\n",
    "        pNode = pHead\n",
    "        while pNode != None:\n",
    "            pClone = pNode.next\n",
    "            if pNode.random != None:\n",
    "                pClone.random = pNode.random.next\n",
    "            pNode = pClone.next\n",
    "    def ReconnectNodes(self, pHead):\n",
    "        \"\"\"将复制好的链表拆分成两个链表，奇数位为原链表，偶数位为赋值好的链表\"\"\"\n",
    "        pNode = pHead\n",
    "        pCloneHead = None\n",
    "        pCloneNode = None\n",
    "        if pNode != None:\n",
    "            pCloneHead = pCloneNode = pNode.next\n",
    "            pNode.next = pCloneNode.next\n",
    "            pNode = pNode.next\n",
    "        while pNode != None:\n",
    "            pCloneNode.next = pNode.next\n",
    "            pCloneNode = pCloneNode.next\n",
    "            pNode.next = pCloneNode.next\n",
    "            pNode = pNode.next\n",
    "        return pCloneHead\n",
    "    def Clone(self, pHead):\n",
    "        \"\"\"在原链表基础上进行复制，再拆分，分成三个步骤，三个函数依次进行处理\"\"\"\n",
    "        self.CloneNodes(pHead)\n",
    "        self.ConnetSiblingNodes(pHead)\n",
    "        return self.ReconnectNodes(pHead)\n",
    "# test code\n",
    "# 代码已在牛客网通过测试"
   ]
  },
  {
   "cell_type": "markdown",
   "metadata": {},
   "source": [
    "# 面试题36：二叉搜索树与双向链表\n",
    "题目：输入一颗二叉搜索树，将该二叉搜索树转换成一个排序的双向链表。要求不能创建任何新的节点，只能调整树中节点指针的指向"
   ]
  },
  {
   "cell_type": "code",
   "execution_count": null,
   "metadata": {},
   "outputs": [],
   "source": [
    "class Solution:\n",
    "    def ConvertNode(self,pNode, pLastNodeInList):\n",
    "        \"\"\"递归的转换节点的左子树和右子树，返回转换成链表后的最后一个节点\n",
    "        注意：pLastNodeList对象本身在函数中是不可更改的，若强行修改相当于定义了同名的局部变量，因此必须用return的方式返回修改值\"\"\"\n",
    "        if pNode == None:\n",
    "            return\n",
    "        pCurrent = pNode\n",
    "        if pCurrent.left != None:\n",
    "            pLastNodeInList = self.ConvertNode(pCurrent.left, pLastNodeInList)\n",
    "        pCurrent.left = pLastNodeInList\n",
    "        if pLastNodeInList != None:\n",
    "            pLastNodeInList.right = pCurrent\n",
    "        pLastNodeInList = pCurrent\n",
    "        if pCurrent.right != None:\n",
    "            pLastNodeInList = self.ConvertNode(pCurrent.right, pLastNodeInList)\n",
    "        return pLastNodeInList\n",
    "    def Convert(self, pRootOfTree):\n",
    "        \"\"\"通过调用转换函数，并调整返回的末尾节点，返回头节点\"\"\"\n",
    "        pLastNodeInList = None\n",
    "        pLastNodeInList = self.ConvertNode(pRootOfTree,pLastNodeInList)\n",
    "        pHeadOfList = pLastNodeInList\n",
    "        while pHeadOfList != None and pHeadOfList.left != None:\n",
    "            pHeadOfList = pHeadOfList.left\n",
    "        return pHeadOfList"
   ]
  },
  {
   "cell_type": "markdown",
   "metadata": {},
   "source": [
    "# 面试题37：序列化二叉树\n",
    "题目：请实现两个函数，分别用来序列化和反序列化二叉树"
   ]
  },
  {
   "cell_type": "code",
   "execution_count": null,
   "metadata": {},
   "outputs": [],
   "source": [
    "class Solution:\n",
    "    def Serialize(self, root):\n",
    "        \"\"\"递归的前序遍历二叉树，遇空节点使用特殊字符代替\"\"\"\n",
    "        result = []\n",
    "        if root == None:\n",
    "            result.append(None)\n",
    "            return result\n",
    "        result.append(root.val)\n",
    "        result = result + (self.Serialize(root.left))\n",
    "        result = result + (self.Serialize(root.right))\n",
    "        return result\n",
    "        \n",
    "    def Deserialize(self, s):\n",
    "        \"\"\"递归的读取序列生成节点\"\"\"\n",
    "        if not s:\n",
    "            return None\n",
    "        value = s.pop(0)\n",
    "        pRoot = None\n",
    "        if value:\n",
    "            pRoot = TreeNode(value)\n",
    "            pRoot.left = self.Deserialize(s)\n",
    "            pRoot.right = self.Deserialize(s)\n",
    "        return pRoot"
   ]
  },
  {
   "cell_type": "markdown",
   "metadata": {},
   "source": [
    "# 面试题38：字符串的排列\n",
    "题目：输入一个字符串，打印出该字符串中字符的所有排列。例如，输入字符abc，则打印出由字符a,b,c所能排列出来的所有字符串abc,acb,bac,bca,cab,cba。"
   ]
  },
  {
   "cell_type": "code",
   "execution_count": 2,
   "metadata": {},
   "outputs": [
    {
     "data": {
      "text/plain": [
       "'a'"
      ]
     },
     "execution_count": 2,
     "metadata": {},
     "output_type": "execute_result"
    }
   ],
   "source": [
    "class Solution:\n",
    "    \"\"\"依照剑指offer中C++代码思路修改的python算法，原C++代码中无法保证输入重复字符时，输出不重复的组合，也无法保证按字典序输出。\n",
    "    本算法中在循环中添加if判断是否字符是否重复，并在Permutation函数返回时，调用sorted函数进行排序，因此有很大的算法改进空间\"\"\"\n",
    "    def PermutationCore(self, ss, i):\n",
    "        \"\"\"递归的从左到右调换列表中的元素位置，返回调换后的组合，i为调换的起始位置\"\"\"\n",
    "        result = []\n",
    "        if i >= len(ss) - 1:\n",
    "            # 当起始位置到达列表末尾时，直接返回该列表组合成的字符串即可\n",
    "            result.append(''.join(ss))\n",
    "            return result\n",
    "        else:\n",
    "            for j in range(i, len(ss)):\n",
    "                # 循环中依次将每个字符和起始字符交换，递归返回剩余部分组合的字符串\n",
    "                if ss[j] == ss[i] and j != i:\n",
    "                    # 若两字符相同，则没有交换的必要(首字符交换的情况除外)\n",
    "                    continue\n",
    "                temp = ss[j]\n",
    "                ss[j] = ss[i]\n",
    "                ss[i] = temp\n",
    "                result = result + self.PermutationCore(ss, i+1)\n",
    "                # 还原交换过的字符\n",
    "                temp = ss[j]\n",
    "                ss[j] = ss[i]\n",
    "                ss[i] = temp\n",
    "        return result\n",
    "\n",
    "    def Permutation(self, ss):\n",
    "        \"\"\"主函数，传入列表，使用sorted函数按字典序重新排序返回的字符串组合\"\"\"\n",
    "        if not ss:\n",
    "            return ''\n",
    "        return sorted(self.PermutationCore(list(ss), 0))\n",
    "    \n",
    "# test code\n",
    "# 已在牛客网通过测试"
   ]
  },
  {
   "cell_type": "markdown",
   "metadata": {},
   "source": [
    "# 面试题39：数组中出现次数超过一半的数字\n",
    "题目：数组中有一个数字出现的次数超过数组长度的一半，请找出这个数字。例如，输入一个长度为9的数组[1,2,3,2,2,2,5,4,2]。由于数组2在数组中出现了5次，超过数组长度的一半，因此输出2."
   ]
  },
  {
   "cell_type": "code",
   "execution_count": null,
   "metadata": {
    "code_folding": []
   },
   "outputs": [],
   "source": [
    "class Solution:\n",
    "    def CheckMoreThanHalf(self, numbers , number):\n",
    "        \"\"\"检查输入数字重复次数是否超过数组长度的一半\"\"\"\n",
    "        times = 0\n",
    "        for i in range(len(numbers)):\n",
    "            if numbers[i] == number:\n",
    "                times += 1\n",
    "        isMoreThanHalf = True\n",
    "        if times *2 <= len(numbers):\n",
    "            isMoreThanHalf = False\n",
    "        return isMoreThanHalf\n",
    "\n",
    "    def MoreThanHalfNum_Solution(self, numbers):\n",
    "        \"\"\"通过加减法统计数字在数组中出现的次数，得到次数最高的数字，最终判断其次数是否超过数组长度的一半，算法复杂度O(n)\"\"\"\n",
    "        if not numbers:\n",
    "            return 0\n",
    "        result = numbers[0]\n",
    "        times = 1\n",
    "        for i in range(len(numbers)):\n",
    "            if times == 0:\n",
    "                result = numbers[i]\n",
    "                times = 1\n",
    "            elif numbers[i] == result:\n",
    "                times += 1\n",
    "            else:\n",
    "                times -= 1\n",
    "        if not self.CheckMoreThanHalf(numbers, result):\n",
    "            result = 0\n",
    "        return result\n",
    "# test code\n",
    "# 已在牛客网通过测试"
   ]
  },
  {
   "cell_type": "code",
   "execution_count": null,
   "metadata": {
    "code_folding": [
     2
    ]
   },
   "outputs": [],
   "source": [
    "# 另一个思路，利用快速排序法的思想，(此代码尚存在bug通过牛客网测试)\n",
    "class Solution:\n",
    "    def __init__(self):\n",
    "        \"\"\"初始化全局错误指针，为了能使用random标准库，用self.random去应用导入后的该库\"\"\"\n",
    "        self.g_bInputInvalid = False\n",
    "        import random\n",
    "        self.random = random\n",
    "\n",
    "    def Partition(self, data, start, end):\n",
    "        \"\"\"随机选择基准数，将较小数移到前方，返回基准数在调整顺序后的索引位置\"\"\"\n",
    "        if not data:\n",
    "            raise Exception(\"Invalid Parameters\")\n",
    "        # 在快速排序法基础上额外添加的防止错误出入代码\n",
    "        if start == end:\n",
    "            return start\n",
    "        \n",
    "        index = self.random.randrange(start, end)\n",
    "\n",
    "        temp = data[index]\n",
    "        data[index] = data[end]\n",
    "        data[end] = temp\n",
    "\n",
    "        small = start - 1\n",
    "        for index in range(start, end):\n",
    "            if data[index] < data[end]:\n",
    "                small += 1\n",
    "                if small != index:\n",
    "                    temp = data[index]\n",
    "                    data[index] = data[small]\n",
    "                    data[small] = temp\n",
    "        small += 1\n",
    "\n",
    "        temp = data[small]\n",
    "        data[small] = data[end]\n",
    "        data[end] = temp\n",
    "\n",
    "        return small\n",
    "\n",
    "    def CheckMoreThanHalf(self, numbers, number):\n",
    "        \"\"\"同上一cell方法的检查函数\"\"\"\n",
    "        times = 0\n",
    "        for i in range(len(numbers)):\n",
    "            if numbers[i] == number:\n",
    "                times += 1\n",
    "        isMoreThanHalf = True\n",
    "        if times * 2 <= len(numbers):\n",
    "            isMoreThanHalf = False\n",
    "            self.g_bInputInvalid = True\n",
    "        return isMoreThanHalf\n",
    "\n",
    "    def CheckInvalidArray(self, numbers):\n",
    "        \"\"\"检查输入是否合法\"\"\"\n",
    "        self.g_bInputInvalid = False\n",
    "        if not numbers:\n",
    "            self.g_bInputInvalid = True\n",
    "        return self.g_bInputInvalid\n",
    "\n",
    "    def MoreThanHalfNum_Solution(self, numbers):\n",
    "        \"\"\"基于快速排序法，重复次数超过数组长度一半时该元素必定位于排序后数组的中间位置，因此基于快速排序法查找排序后位于中间位置\n",
    "        的元素，并检查该元素是否符合要求\"\"\"\n",
    "        if self.CheckInvalidArray(numbers):\n",
    "            return 0\n",
    "        middle = len(numbers) // 2\n",
    "        start = 0\n",
    "        end = len(numbers) - 1\n",
    "        index = self.Partition(numbers,start, end)\n",
    "        while index != middle:\n",
    "            if index > middle:\n",
    "                end = index - 1\n",
    "                index = self.Partition(numbers,start, end)\n",
    "            else:\n",
    "                start = index + 1\n",
    "                index = self.Partition(numbers, start, end)\n",
    "        result = numbers[middle]\n",
    "        if not self.CheckMoreThanHalf(numbers, result):\n",
    "            result = 0\n",
    "        return result"
   ]
  },
  {
   "cell_type": "markdown",
   "metadata": {},
   "source": [
    "# 面试题40：最小的k个数\n",
    "题目：输入n个整数，找出其中最小的k个数。例如，输入4,5,1,6,2,7,3,8这8个数，则最小的四个数是1,2,3,4."
   ]
  },
  {
   "cell_type": "code",
   "execution_count": null,
   "metadata": {
    "code_folding": [
     3
    ]
   },
   "outputs": [],
   "source": [
    "class Solution:\n",
    "    \"\"\"时间复杂度为O(n)的算法，需要修改数组，且输出的k个数不一定是排序的，此算法虽能满足题目要求，但不能通过牛客网测试\"\"\"\n",
    "\n",
    "    def Partition(self, data, start, end):\n",
    "        \"\"\"随机选择基准数，将较小数移到前方，返回基准数在调整顺序后的索引位置\"\"\"\n",
    "        if not data:\n",
    "            raise Exception(\"Invalid Parameters\")\n",
    "        # 在快速排序法基础上额外添加的防止错误出入代码\n",
    "        if start == end:\n",
    "            return start\n",
    "\n",
    "        index = random.randrange(start, end)\n",
    "\n",
    "        temp = data[index]\n",
    "        data[index] = data[end]\n",
    "        data[end] = temp\n",
    "\n",
    "        small = start - 1\n",
    "        for index in range(start, end):\n",
    "            if data[index] < data[end]:\n",
    "                small += 1\n",
    "                if small != index:\n",
    "                    temp = data[index]\n",
    "                    data[index] = data[small]\n",
    "                    data[small] = temp\n",
    "        small += 1\n",
    "\n",
    "        temp = data[small]\n",
    "        data[small] = data[end]\n",
    "        data[end] = temp\n",
    "\n",
    "        return small\n",
    "\n",
    "    def GetLeastNumbers_Solution(self, tinput, k):\n",
    "        if not tinput or k <= 0:\n",
    "            return\n",
    "        start = 0\n",
    "        end = len(tinput) - 1\n",
    "        index = self.Partition(tinput, start, end)\n",
    "        while index != k - 1:\n",
    "            if index > k - 1:\n",
    "                end = index - 1\n",
    "                index = self.Partition(tinput, start, end)\n",
    "            else:\n",
    "                start = index + 1\n",
    "                index = self.Partition(tinput, start, end)\n",
    "        return tinput[:k]\n",
    "#test code\n",
    "a = Solution()\n",
    "print(a.GetLeastNumbers_Solution([4,5,1,6,2,7,3,8], 1))"
   ]
  },
  {
   "cell_type": "code",
   "execution_count": null,
   "metadata": {},
   "outputs": [],
   "source": [
    "class Solution:\n",
    "    \"\"\"解法二：时间复杂度为O(nlogK)的算法，利用红黑树来维护最大值，适合用来处理海量数据\"\"\"\n",
    "    def GetLeastNumbers_Solution(self, tinput, k):\n",
    "        if not tinput or len(tinput) < k or k <= 0:\n",
    "            return []\n",
    "        result = []\n",
    "        for i in tinput:\n",
    "            if len(result) < k:\n",
    "                result.append(i)\n",
    "            else:\n",
    "                result.sort()\n",
    "                if i < result[-1]:\n",
    "                    result[-1] = i\n",
    "        return sorted(result)"
   ]
  },
  {
   "cell_type": "markdown",
   "metadata": {},
   "source": [
    "# 面试题41：数据流中的中位数\n",
    "题目：如何得到一个数据流中的中位数？如果从数据流中独处奇数个数值，那么中位数就是所有数值排序之后位于中间的数值，若果从数据流中读出偶数个数值，那么中位数就是所有数值排序后中间两个数的平均值"
   ]
  },
  {
   "cell_type": "code",
   "execution_count": 3,
   "metadata": {},
   "outputs": [],
   "source": [
    "class Solution:\n",
    "    \"\"\"使用最大堆和最小堆来存储排好序后的中位数左边和右边，根据两堆的总元素两即可判断中位数的数值\"\"\"\n",
    "    def __init__(self):\n",
    "        \"\"\"利用对象的初始化功能，导入heapq优先队列堆标准库，并初始化最大堆和最小堆\"\"\"\n",
    "        import heapq\n",
    "        self.hq = heapq\n",
    "        self.max_hq = []\n",
    "        self.min_hq = []\n",
    "    def Insert(self, num):\n",
    "        \"\"\"数据流的个数是偶数个则在最小堆中插入，同时判断新输入的数据流插入后是否符合最大堆的最大元素小于最小堆的最小元素。\n",
    "        由于heapq标准库中只有最小堆，所以采用所有数据取反存储的方式实现最大堆\"\"\"\n",
    "        if ((len(self.min_hq) + len(self.max_hq)) & 1) == 0:\n",
    "            if len(self.max_hq) > 0 and num < -self.max_hq[0]:\n",
    "                self.hq.heappush(self.max_hq, -num)\n",
    "                num = -self.hq.heappop(self.max_hq)\n",
    "            self.hq.heappush(self.min_hq, num)\n",
    "        else:\n",
    "            if len(self.min_hq) > 0 and self.min_hq[0] < num:\n",
    "                self.hq.heappush(self.min_hq, num)\n",
    "                num = self.hq.heappop(self.min_hq)\n",
    "            self.hq.heappush(self.max_hq, -num)\n",
    "                \n",
    "    def GetMedian(self, fuck):\n",
    "        \"\"\"判断数据流的大小，按照奇偶规则从堆中返回中位数,另外由于牛客网bug，此函数必须额外增加一个参数，遂用fuck代替\"\"\"\n",
    "        size = len(self.max_hq) + len(self.min_hq)\n",
    "        if size == 0:\n",
    "            raise Exception(\"No number are available!\")\n",
    "        median = 0\n",
    "        if (size & 1) == 1:\n",
    "            median = self.min_hq[0]\n",
    "        else:\n",
    "            median = float(self.min_hq[0] - self.max_hq[0]) / 2\n",
    "        return median\n",
    "# test code\n",
    "# 已在牛客网通过测试"
   ]
  },
  {
   "cell_type": "markdown",
   "metadata": {},
   "source": [
    "# 面试题42:连续子数组的最大和\n",
    "题目：输入一个整形数组，数组中有正数也有负数。数组中的一个或连续多个整数组成一个子数组。求所有子数组的和的最大值。要求时间复杂度为O(n)"
   ]
  },
  {
   "cell_type": "code",
   "execution_count": null,
   "metadata": {},
   "outputs": [],
   "source": [
    "class Solution:\n",
    "    def FindGreatestSumOfSubArray(self, array):\n",
    "        \"\"\"一次遍历，逐个比较累加子数组之和，若当前和小于等于0则重新选择下一值为新起点\"\"\"\n",
    "        if not array:\n",
    "            return False\n",
    "        nCurSum = 0\n",
    "        nGreatSum = -0x80000000 # python中数值溢出会自动使用大数表示法，因此要表示最小整型数字只能在前方加‘-’号\n",
    "        for i in array:\n",
    "            if nCurSum <= 0:\n",
    "                nCurSum = i\n",
    "            else:\n",
    "                nCurSum += i\n",
    "            if nCurSum > nGreatSum:\n",
    "                nGreatSum = nCurSum\n",
    "        return nGreatSum\n",
    "# test code\n",
    "# 代码已在牛客网通过测试"
   ]
  },
  {
   "cell_type": "markdown",
   "metadata": {},
   "source": [
    "# 面试题43:[1,n]整数中1出现的次数\n",
    "题目：输入一个整数n，求[1,n]这n个整数的十进制表示中1出现的次数。例如，输入12，则[1,12]这些整数中包含1的数字有1，10,11和12,1一共出现了5次"
   ]
  },
  {
   "cell_type": "code",
   "execution_count": 8,
   "metadata": {},
   "outputs": [
    {
     "data": {
      "text/plain": [
       "234556"
      ]
     },
     "execution_count": 8,
     "metadata": {},
     "output_type": "execute_result"
    }
   ],
   "source": [
    "class Solution:\n",
    "    def NumberOf1(self,strN):\n",
    "        \"\"\"递归的计算含有1的数量\"\"\"\n",
    "        if not strN:\n",
    "            return 0\n",
    "        first = ord(strN[0]) - ord('0')\n",
    "        length = len(strN)\n",
    "        if length == 1 and first == 0:\n",
    "            return 0\n",
    "        if length == 1 and first > 0:\n",
    "            return 1\n",
    "        numFirstDigit = 0\n",
    "        if first > 1:\n",
    "            numFirstDigit = pow(10, length - 1)\n",
    "        elif first == 1:\n",
    "            numFirstDigit = int(''.join(strN[1:])) + 1\n",
    "        numOtherDigts = first*(length - 1)*pow(10, length - 2)\n",
    "        numRecursive = self.NumberOf1(strN[1:])\n",
    "        return numFirstDigit + numOtherDigts + numRecursive\n",
    "    def NumberOf1Between1AndN_Solution(self, n):\n",
    "        \"\"\"主函数，判断输入数字是否有效，并将其转换成字符型列表，算法复杂度O(logn)\"\"\"\n",
    "        if n <= 0:\n",
    "            return 0\n",
    "        return self.NumberOf1(list(str(n)))\n",
    "# test code\n",
    "# 代码已在牛客网通过测试"
   ]
  },
  {
   "cell_type": "markdown",
   "metadata": {},
   "source": [
    "# 面试题44：数字序列中某一位的数字\n",
    "题目：数字以0123456789101112131415...的格式序列化到一个字符序列中。在这个序列中，第5位(从0开始计数)是5，第13位是1，第19为是4，等等。请写一个函数，求任意第n位对应的数字"
   ]
  },
  {
   "cell_type": "code",
   "execution_count": 1,
   "metadata": {},
   "outputs": [
    {
     "name": "stdout",
     "output_type": "stream",
     "text": [
      "1\n"
     ]
    }
   ],
   "source": [
    "class Solution:\n",
    "    def beginNumber(self, digits):\n",
    "        if digits == 1:\n",
    "            return 0\n",
    "        return pow(10, digits - 1)\n",
    "    def digitsAtIndex(self,index, digits):\n",
    "        number = self.beginNumber(digits) + index / digits\n",
    "        indexFromRight = digits - index % digits\n",
    "        for i in range(1,indexFromRight):\n",
    "            number /= 10\n",
    "        return int(number % 10)\n",
    "    def countOfIntegers(self, digits):\n",
    "        if digits == 1:\n",
    "            return 10\n",
    "        count = pow(10, digits - 1)\n",
    "        return 9*count\n",
    "    def digitsAtIndex_main(self, index):\n",
    "        if index < 0:\n",
    "            return -1\n",
    "        digits = 1\n",
    "        while True:\n",
    "            number = self.countOfIntegers(digits)\n",
    "            if index < number * digits:\n",
    "                return self.digitsAtIndex(index, digits)\n",
    "            index -= digits * number\n",
    "            digits += 1\n",
    "        return -1\n",
    "# test code\n",
    "a = Solution()\n",
    "data = 10\n",
    "print(a.digitsAtIndex_main(data))"
   ]
  },
  {
   "cell_type": "markdown",
   "metadata": {},
   "source": [
    "# 面试题45：把数组排成最小的数\n",
    "题目：输入一个正整数数组，把数组里所有数字拼接起来排成一个数，打印能拼接出的所有数组中最小的一个。例如，输入数组{3,32,321}，则打印出这三个数字能排成的最小数字321323"
   ]
  },
  {
   "cell_type": "code",
   "execution_count": 1,
   "metadata": {},
   "outputs": [
    {
     "ename": "TypeError",
     "evalue": "'cmp' is an invalid keyword argument for this function",
     "output_type": "error",
     "traceback": [
      "\u001b[0;31m---------------------------------------------------------------------------\u001b[0m",
      "\u001b[0;31mTypeError\u001b[0m                                 Traceback (most recent call last)",
      "\u001b[0;32m<ipython-input-1-d82a1e097375>\u001b[0m in \u001b[0;36m<module>\u001b[0;34m()\u001b[0m\n\u001b[1;32m      1\u001b[0m \u001b[0mL\u001b[0m \u001b[0;34m=\u001b[0m \u001b[0;34m[\u001b[0m\u001b[0;34m(\u001b[0m\u001b[0;34m'b'\u001b[0m\u001b[0;34m,\u001b[0m \u001b[0;36m2\u001b[0m\u001b[0;34m)\u001b[0m\u001b[0;34m,\u001b[0m\u001b[0;34m(\u001b[0m\u001b[0;34m'a'\u001b[0m\u001b[0;34m,\u001b[0m\u001b[0;36m1\u001b[0m\u001b[0;34m)\u001b[0m\u001b[0;34m,\u001b[0m\u001b[0;34m(\u001b[0m\u001b[0;34m'c'\u001b[0m\u001b[0;34m,\u001b[0m \u001b[0;36m3\u001b[0m\u001b[0;34m)\u001b[0m\u001b[0;34m,\u001b[0m\u001b[0;34m(\u001b[0m\u001b[0;34m'd'\u001b[0m\u001b[0;34m,\u001b[0m \u001b[0;36m4\u001b[0m\u001b[0;34m)\u001b[0m\u001b[0;34m]\u001b[0m\u001b[0;34m\u001b[0m\u001b[0m\n\u001b[0;32m----> 2\u001b[0;31m \u001b[0msorted\u001b[0m\u001b[0;34m(\u001b[0m\u001b[0mL\u001b[0m\u001b[0;34m,\u001b[0m \u001b[0mcmp\u001b[0m\u001b[0;34m=\u001b[0m\u001b[0;32mlambda\u001b[0m \u001b[0mx\u001b[0m\u001b[0;34m,\u001b[0m\u001b[0my\u001b[0m\u001b[0;34m:\u001b[0m\u001b[0mcmp\u001b[0m\u001b[0;34m(\u001b[0m\u001b[0mx\u001b[0m\u001b[0;34m[\u001b[0m\u001b[0;36m1\u001b[0m\u001b[0;34m]\u001b[0m\u001b[0;34m,\u001b[0m \u001b[0my\u001b[0m\u001b[0;34m[\u001b[0m\u001b[0;36m1\u001b[0m\u001b[0;34m]\u001b[0m\u001b[0;34m)\u001b[0m\u001b[0;34m)\u001b[0m\u001b[0;34m\u001b[0m\u001b[0m\n\u001b[0m",
      "\u001b[0;31mTypeError\u001b[0m: 'cmp' is an invalid keyword argument for this function"
     ]
    }
   ],
   "source": [
    "class Solution:\n",
    "    \"\"\"定义一种新的比较大小数字大小的方法，使用该方法对数组进行排序，同时考虑大数问题\"\"\"\n",
    "    def PrintMinNumber(self, numbers):\n",
    "        if not numbers:\n",
    "            return ''\n",
    "        strNumber = [str(i) for i in numbers]\n",
    "\n",
    "        def compare(str1, str2):\n",
    "            \"\"\"新的比较方法，尝试拼接两字符串然后比较大小\"\"\"\n",
    "            if str1+str2 > str2+str1:\n",
    "                return 1\n",
    "            elif str1 + str2 < str2 + str1:\n",
    "                return -1\n",
    "            else:\n",
    "                return 0\n",
    "        # python3中取消了cmp参数，但牛客网中使用的是python2.7故能通过测试代码，python3中的解决代码如下;\n",
    "#         import functools\n",
    "#         strNumber = sorted(strNumber, key=functools.cmp_to_key(compare))\n",
    "        strNumber = sorted(strNumber, cmp=lambda x,y:compare(x, y))\n",
    "        return ''.join(strNumber)\n",
    "# test code \n",
    "# 已在牛客网通过测试"
   ]
  },
  {
   "cell_type": "markdown",
   "metadata": {},
   "source": [
    "# 面试题46：把数字翻译成字符串\n",
    "题目：给定一个数字，我们按照如下规则把它翻译为字符串：0翻译成'a'，1翻译为'b'，....，11翻译为'l'，...，25翻译为'z'。一个数字可能有多个翻译。例如，12258有5中不同的翻译，分别是'bccfi','bwfi','bczi','mcfi','mzi'。请编程实现一个函数，用来计算一个数字有多少种不同的翻译方法。"
   ]
  },
  {
   "cell_type": "code",
   "execution_count": 3,
   "metadata": {},
   "outputs": [
    {
     "name": "stdout",
     "output_type": "stream",
     "text": [
      "5\n"
     ]
    }
   ],
   "source": [
    "class Solution:\n",
    "    \"\"\"从右向左的依次计算可组合翻译的种类，避免重复计算了拆分的小问题\"\"\"\n",
    "    def GetTranslationCount(self,number):\n",
    "        if number < 0:\n",
    "            return 0\n",
    "        strNumber = str(number)\n",
    "        length = len(strNumber)\n",
    "        counts = [None] * length\n",
    "        count = 0\n",
    "        for i in range(length - 1, -1, -1):\n",
    "            count = 0\n",
    "            if i < length - 1: # 避免counts在未初始化时对count进行了赋值\n",
    "                count = counts[i+1] # count初始值总是前面可组合的次数，在此基础上进行累积\n",
    "            else:\n",
    "                count = 1\n",
    "            if i < length - 1:\n",
    "                digit1 = ord(strNumber[i]) - ord('0')\n",
    "                digit2 = ord(strNumber[i+1]) - ord('0')\n",
    "                converted = digit1 * 10 + digit2\n",
    "                if converted >= 10 and converted <= 25: # 可合并翻译的情况\n",
    "                    if i < length - 2:\n",
    "                        count += counts[i+2]\n",
    "                    else:\n",
    "                        count += 1\n",
    "            counts[i] = count\n",
    "        return count\n",
    "# test code\n",
    "a = Solution()\n",
    "data = 12258\n",
    "print(a.GetTranslationCount(data))"
   ]
  },
  {
   "cell_type": "markdown",
   "metadata": {},
   "source": [
    "# 面试题47：礼物的最大价值\n",
    "题目:在一个m*n的棋盘的每一格都放有一个礼物，每个礼物都有一定的价值(价值大于0).你可以从棋盘的左上角开始拿格子里的礼物，并每次向右或者向下移动一格，直到达到棋盘的右下角。给定一个棋盘及其上面的礼物，请计算你最多能拿到多少价值的礼物？"
   ]
  },
  {
   "cell_type": "code",
   "execution_count": 1,
   "metadata": {},
   "outputs": [
    {
     "name": "stdout",
     "output_type": "stream",
     "text": [
      "53\n"
     ]
    }
   ],
   "source": [
    "class Solution:\n",
    "    def getMaxValue_solution(self,values):\n",
    "        \"\"\"解决方案一，使用辅助的二维矩阵记录路径上能得到的最大价值\"\"\"\n",
    "        if not values:\n",
    "            return 0\n",
    "        rows = len(values)\n",
    "        clos = len(values[0])\n",
    "        maxValue = [[None] * clos for _ in range(rows)]\n",
    "        for i in range(rows):\n",
    "            for j in range(clos):\n",
    "                left = 0\n",
    "                up = 0\n",
    "                if i > 0:\n",
    "                    up = maxValue[i-1][j]\n",
    "                if j > 0:\n",
    "                    left = maxValue[i][j-1]\n",
    "                maxValue[i][j] = max(left, up) + values[i][j]\n",
    "        maxValue = maxValue[rows-1][clos-1]\n",
    "        return maxValue\n",
    "    def getMaxValue_solution2(self,values):\n",
    "        \"\"\"优化方案，使用一维数组记录路径上能得到的最大价值\"\"\"\n",
    "        if not values:\n",
    "            return 0\n",
    "        rows = len(values)\n",
    "        clos = len(values[0])\n",
    "        maxValues = [None] * clos\n",
    "        for i in range(rows):\n",
    "            for j in range(clos):\n",
    "                left = 0\n",
    "                up = 0\n",
    "                if i > 0 :\n",
    "                    up = maxValues[j]\n",
    "                if j > 0:\n",
    "                    left = maxValues[j-1]\n",
    "                maxValues[j] = max(up, left) + values[i][j]\n",
    "        maxValues = maxValues[clos - 1]\n",
    "        return maxValues\n",
    "# test code\n",
    "a = Solution()\n",
    "data = [[1,10,3,8],[12,2,9,6],[5,7,4,11],[3,7,16,5]]\n",
    "print(a.getMaxValue_solution2(data))"
   ]
  },
  {
   "cell_type": "markdown",
   "metadata": {},
   "source": [
    "# 面试题48：最长不含重复字符的字符串\n",
    "题目：请从字符串中找出一个最长的不包含重复字符的子字符串，计算该最长子字符串的长度。假设字符串中只包含'a'-'z'的字符。例如，在字符串\"arabcacfr\"中，最长的不含重复字符的子字符串是\"acfr\"，长度为4."
   ]
  },
  {
   "cell_type": "code",
   "execution_count": null,
   "metadata": {},
   "outputs": [],
   "source": [
    "class Solution:\n",
    "    def longestSubstringWithoutDuplication(self, strs):\n",
    "        \"\"\"position用来存储上一次对应位置字符出现的索引值\"\"\"\n",
    "        curLength = 0\n",
    "        maxLength = 0\n",
    "        position = [-1] * 26\n",
    "        for i in range(len(strs)):\n",
    "            prevIndex = position[ord(strs[i]) - ord('a')]\n",
    "            if prevIndex < 0 or i - prevIndex > curLength: # 计算距离d是否大于当前长度\n",
    "                curLength += 1\n",
    "            else:\n",
    "                if curLength > maxLength:\n",
    "                    maxLength = curLength\n",
    "                curLength = i - prevIndex\n",
    "            position[ord(strs[i]) - ord('a')] = i\n",
    "        if curLength > maxLength:\n",
    "            maxLength = curLength\n",
    "        return maxLength\n",
    "# test code\n",
    "a = Solution()\n",
    "data = 'arabcacfr'\n",
    "print(a.longestSubstringWithoutDuplication(data))"
   ]
  },
  {
   "cell_type": "markdown",
   "metadata": {},
   "source": [
    "# 面试题49：丑数\n",
    "题目：我们把只包含因子2,3,5的数成为丑数，求从小到大的顺序的第1500个丑数。例如，6,8都是丑数，但14不是，因为它包含因子7.习惯上我们把1当做第一个丑数。"
   ]
  },
  {
   "cell_type": "code",
   "execution_count": null,
   "metadata": {},
   "outputs": [],
   "source": [
    "class Solution:\n",
    "    def GetUglyNumber_Solution(self, index):\n",
    "        \"\"\"利用丑数产生丑数，相比于直接判断每一个整数的方法计算速度要快，但同时将使用O(n)复杂度的存储空间\"\"\"\n",
    "        if index <= 0:\n",
    "            return 0\n",
    "        pUglyNumbers = [None] * index\n",
    "        pUglyNumbers[0] = 1\n",
    "        nextUglyIndex = 1\n",
    "        # pMultiply's Index in pUglyNumbers 记录第一个乘以因子比当前最大丑数大的基丑数的索引位置\n",
    "        pMultiply2 = 0\n",
    "        pMultiply3 = 0\n",
    "        pMultiply5 = 0\n",
    "        while nextUglyIndex < index:\n",
    "            minNumber = min([pUglyNumbers[pMultiply2] * 2, pUglyNumbers[pMultiply3] * 3, \n",
    "                             pUglyNumbers[pMultiply5] * 5])\n",
    "            pUglyNumbers[nextUglyIndex] = minNumber\n",
    "            # update T2,T3,T5\n",
    "            while pUglyNumbers[pMultiply2] * 2 <= pUglyNumbers[nextUglyIndex]:\n",
    "                pMultiply2 += 1\n",
    "            while pUglyNumbers[pMultiply3] * 3 <= pUglyNumbers[nextUglyIndex]:\n",
    "                pMultiply3 += 1\n",
    "            while pUglyNumbers[pMultiply5] * 5 <= pUglyNumbers[nextUglyIndex]:\n",
    "                pMultiply5 += 1\n",
    "            nextUglyIndex += 1\n",
    "        ugly = pUglyNumbers[nextUglyIndex - 1]\n",
    "        return ugly\n",
    "# test code\n",
    "# 代码已在牛客网通过测试"
   ]
  },
  {
   "cell_type": "markdown",
   "metadata": {},
   "source": [
    "# 面试题50：第一个只出现一次的字符\n",
    "题目一：字符串中第一个只出现一次的字符。如输入\"abaccdeff\"则输出'b'"
   ]
  },
  {
   "cell_type": "code",
   "execution_count": 1,
   "metadata": {},
   "outputs": [
    {
     "name": "stdout",
     "output_type": "stream",
     "text": [
      "b\n"
     ]
    }
   ],
   "source": [
    "class Solution:\n",
    "    def FirstNotRepeatingChar(self, s):\n",
    "        \"\"\"使用长度为256的列表表示ASCII码，列表中的值表示对应字符出现的次数，模拟哈希表，统计字符出现的次数，\n",
    "        再依照字符出现的顺序检查哈希表，找出第一次只出现一次的字符\"\"\"\n",
    "        if not s:\n",
    "            return ''\n",
    "        tableSize = 256\n",
    "        hashTable = [0] * tableSize\n",
    "        for i in range(len(s)):\n",
    "            hashTable[ord(s[i])] += 1\n",
    "        for i in range(len(s)):\n",
    "            if hashTable[ord(s[i])] == 1:\n",
    "                return s[i]\n",
    "        return ''\n",
    "# test code\n",
    "a = Solution()\n",
    "data = 'abaccdeff'\n",
    "print(a.FirstNotRepeatingChar(data))"
   ]
  },
  {
   "cell_type": "markdown",
   "metadata": {},
   "source": [
    "题目二：字符流中第一个只出现一次的字符\n",
    "请实现一个函数，用来找出字符流中的第一个只出现一次的字符。例如，当从字符流中只读出两个字符\"go\"时，第一个只出现一次的字符是\"g\"；当从该字符流中读出前6个字符\"google\"时，第一个只出现一次的字符是\"I\"。"
   ]
  },
  {
   "cell_type": "code",
   "execution_count": 4,
   "metadata": {},
   "outputs": [
    {
     "name": "stdout",
     "output_type": "stream",
     "text": [
      "a\n",
      "a\n",
      "b\n",
      "b\n",
      "b\n",
      "b\n",
      "b\n",
      "d\n",
      "d\n",
      "d\n"
     ]
    }
   ],
   "source": [
    "class Solution:\n",
    "    def __init__(self):\n",
    "        \"\"\"初始化哈希表和索引,其中\n",
    "        occurrence[i] = -1 表示元素尚未找到\n",
    "        occurrence[i] = -2 表示元素被找到多次\n",
    "        occurrence[i] >= 0 表示元素仅被找到一次\"\"\"\n",
    "        self.occurrence = [-1] * 256\n",
    "        self.index = 0\n",
    "    def Insert(self,ch):\n",
    "        if self.occurrence[ord(ch)] == -1:\n",
    "            self.occurrence[ord(ch)] = self.index\n",
    "        elif self.occurrence[ord(ch)] >= 0:\n",
    "            self.occurrence[ord(ch)] = -2\n",
    "        self.index += 1\n",
    "    def FirstAppearingOnce(self):\n",
    "        ch = ''\n",
    "        minIndex = 0xffffffff\n",
    "        for i in range(256):\n",
    "            if self.occurrence[i] >= 0 and self.occurrence[i] < minIndex:\n",
    "                ch = chr(i)\n",
    "                minIndex = self.occurrence[i]\n",
    "        return ch\n",
    "# test code\n",
    "a = Solution()\n",
    "data = 'abaccdebff'\n",
    "for i in range(len(data)):\n",
    "    a.Insert(data[i])\n",
    "    print(a.FirstAppearingOnce())"
   ]
  },
  {
   "cell_type": "code",
   "execution_count": null,
   "metadata": {},
   "outputs": [],
   "source": [
    "# 牛客网对应代码\n",
    "\"\"\"在一个字符串(0<=字符串长度<=10000，全部由字母组成)中找到第一个只出现一次的字符,并返回它的位置, \n",
    "如果没有则返回 -1（需要区分大小写）\"\"\"\n",
    "class Solution:\n",
    "    def FirstNotRepeatingChar(self, s):\n",
    "        \"\"\"使用长度为256的列表表示ASCII码，列表中的值表示对应字符出现的次数，模拟哈希表，统计字符出现的次数，\n",
    "        再依照字符出现的顺序检查哈希表，找出第一次只出现一次的字符，并在第一题的基础上返回字符改为范围该索引，\n",
    "        并将返回空字符的代码改为返回-1\"\"\"\n",
    "        if not s:\n",
    "            return -1\n",
    "        tableSize = 256\n",
    "        hashTable = [0] * tableSize\n",
    "        for i in range(len(s)):\n",
    "            hashTable[ord(s[i])] += 1\n",
    "        for i in range(len(s)):\n",
    "            if hashTable[ord(s[i])] == 1:\n",
    "                return i\n",
    "        return -1\n",
    "# test code\n",
    "# 代码已在牛客网测试通过"
   ]
  },
  {
   "cell_type": "markdown",
   "metadata": {},
   "source": [
    "# 面试题51：数组中的逆序对\n",
    "题目：在数组中有两个数字，如果前面一个数字大于后面的数字，则两个数字组成一个逆序对。输入一个数组，求出这个数组中的逆序对的总数。例如在数组{7,5,6,4}中，一共存在5个逆序对，分别是(7,6),(7,5),(7,4),(6,4),(5,4)."
   ]
  },
  {
   "cell_type": "code",
   "execution_count": 2,
   "metadata": {
    "code_folding": []
   },
   "outputs": [
    {
     "name": "stdout",
     "output_type": "stream",
     "text": [
      "7\n"
     ]
    }
   ],
   "source": [
    "class Solution:\n",
    "    def InverseParisCroe(self,data, copy, start, end):\n",
    "        \"\"\"利用归并排序原理，递归的将数组进行拆分，在拆分的内部进行比较计算逆序对数，再比较分组之间的大小和逆序对数合并分组\"\"\"\n",
    "        if start == end:\n",
    "            copy[start] = data[start]\n",
    "            return 0\n",
    "        length = (end - start) // 2\n",
    "        left = self.InverseParisCroe(copy,data,start,start + length)\n",
    "        right = self.InverseParisCroe(copy,data, start + length + 1, end)\n",
    "        i = start + length\n",
    "        j = end\n",
    "        indexCopy = end\n",
    "        count = 0\n",
    "        while i >= start and j >= start + length + 1:\n",
    "            if data[i] > data[j]:\n",
    "                copy[indexCopy] = data[i]\n",
    "                indexCopy -= 1\n",
    "                i -= 1\n",
    "                count += j - start - length\n",
    "            else:\n",
    "                copy[indexCopy] = data[j]\n",
    "                indexCopy -= 1\n",
    "                j -= 1\n",
    "        while i >= start:\n",
    "            copy[indexCopy] = data[i]\n",
    "            indexCopy -= 1\n",
    "            i -= 1\n",
    "        while j >= start + length + 1:\n",
    "            copy[indexCopy] = data[j]\n",
    "            indexCopy -= 1\n",
    "            j -= 1\n",
    "        return left + right + count\n",
    "    def InversePairs(self, data):\n",
    "        if not data:\n",
    "            return 0\n",
    "        copy = data[:]\n",
    "        count = self.InverseParisCroe(data, copy, 0, len(data) - 1)\n",
    "        return count\n",
    "# test code\n",
    "a = Solution()\n",
    "data = [1,2,3,4,5,6,7,0]\n",
    "print(a.InversePairs(data))"
   ]
  },
  {
   "cell_type": "code",
   "execution_count": 3,
   "metadata": {},
   "outputs": [
    {
     "data": {
      "text/plain": [
       "1"
      ]
     },
     "execution_count": 3,
     "metadata": {},
     "output_type": "execute_result"
    }
   ],
   "source": [
    "class Solution:\n",
    "    \"\"\"由于牛客网的原因，上个cell中的归并排序代码在算法复杂度上无法通过测试，但同样使用归并排序的以下算法可以\n",
    "    一下算法和上述归并排序原理的算法的区别在于，该算法在数组上从左到右的进行比较和统计逆序对数\"\"\"\n",
    "    def InversePairs(self, data):\n",
    "        return self.sort(data[:], 0, len(data)-1, data[:]) % 1000000007\n",
    "\n",
    "    def sort(self, temp, left, right, data):\n",
    "        if right - left < 1:\n",
    "            return 0\n",
    "        if right - left == 1:\n",
    "            if data[left] < data[right]:\n",
    "                return 0\n",
    "            else:\n",
    "                temp[left], temp[right] = data[right], data[left]\n",
    "                return 1\n",
    "        mid = (left + right) // 2\n",
    "        res = self.sort(data, left, mid, temp) + self.sort(data, mid+1, right, temp)\n",
    "        # 合并\n",
    "        i = left\n",
    "        j = mid + 1\n",
    "        index = left\n",
    "\n",
    "        while i <= mid and j <= right:\n",
    "            if data[i] <= data[j]:\n",
    "                temp[index] = data[i]\n",
    "                i += 1\n",
    "            else:\n",
    "                temp[index] = data[j]\n",
    "                res += mid - i + 1\n",
    "                j += 1\n",
    "            index += 1\n",
    "        while i <= mid:\n",
    "            temp[index] = data[i]\n",
    "            i += 1\n",
    "            index += 1\n",
    "        while j <= right:\n",
    "            temp[index] = data[j]\n",
    "            j += 1\n",
    "            index += 1\n",
    "        return res\n",
    "# test code\n",
    "# 已在牛客网通过测试"
   ]
  },
  {
   "cell_type": "markdown",
   "metadata": {},
   "source": [
    "# 面试题52：两个链表的第一个公共节点\n",
    "题目：输入两个链表，找出它们的第一个公共节点。"
   ]
  },
  {
   "cell_type": "code",
   "execution_count": null,
   "metadata": {},
   "outputs": [],
   "source": [
    "class Solution:\n",
    "    \"\"\"由于是单向链表，公共节点及其后的节点一定都相同，不会出现分叉。基于此算法先求出两链表的长度，让较长的链表先遍历多出的节点，\n",
    "    然后两链表再一起遍历，通过比较找出公共节点，若无公共节点返回None\"\"\"\n",
    "    def GetListLength(self,phaed):\n",
    "        nLength = 0\n",
    "        pNode = phaed\n",
    "        while pNode != None:\n",
    "            nLength += 1\n",
    "            pNode = pNode.next\n",
    "        return nLength\n",
    "    def FindFirstCommonNode(self, pHead1, pHead2):\n",
    "        nLength1 = self.GetListLength(pHead1)\n",
    "        nLength2 = self.GetListLength(pHead2)\n",
    "        nLengthDif = nLength1 - nLength2\n",
    "        \n",
    "        pListHeadLong = pHead1\n",
    "        pListHeadShort = pHead2\n",
    "        \n",
    "        if nLength2 > nLength1:\n",
    "            pListHeadLong = pHead2\n",
    "            pListHeadShort = pHead1\n",
    "            nLengthDif = nLength2 - nLength1\n",
    "        for i in range(nLengthDif):\n",
    "            pListHeadLong = pListHeadLong.next\n",
    "        while pListHeadLong != None and pListHeadShort != None and pListHeadLong != pListHeadShort:\n",
    "            pListHeadLong = pListHeadLong.next\n",
    "            pListHeadShort = pListHeadShort.next\n",
    "        return pListHeadLong\n",
    "# test code\n",
    "# 代码已在牛客网通过测试"
   ]
  },
  {
   "cell_type": "markdown",
   "metadata": {},
   "source": [
    "# 面试题53：在排序数组中查找数字\n",
    "+ 题目一：数字在排序数字中出现的次数  \n",
    "统计一个数字在排序数组中出现的次数。例如，输入排序数组{1,2,3,3,3,3,4,5}和数字3，由于3在这个数组中出现了4次，因此输出4"
   ]
  },
  {
   "cell_type": "code",
   "execution_count": null,
   "metadata": {},
   "outputs": [],
   "source": [
    "class Solution:\n",
    "    def GetFirstK(self,data, k, start, end):\n",
    "        \"\"\"利用二分查找法原理查找第一个k出现的位置，二分法找到k之后再尝试判断前一位数值，用与判断当前找到的k是否是第一个k\"\"\"\n",
    "        if start > end:\n",
    "            return -1\n",
    "        middleIndex = (start + end) // 2\n",
    "        middleData = data[middleIndex]\n",
    "        if middleData == k:\n",
    "            if (middleIndex > 0 and data[middleIndex - 1] != k) or middleIndex == 0:\n",
    "                return middleIndex\n",
    "            else:\n",
    "                end = middleIndex - 1\n",
    "        elif middleData > k:\n",
    "            end = middleIndex - 1\n",
    "        else:\n",
    "            start = middleIndex + 1\n",
    "        return self.GetFirstK(data, k, start, end)\n",
    "    def GetLastK(self, data, k, start, end):\n",
    "        \"\"\"利用二分查找法原理查找最后一个k出现的位置，二分法找到k之后再尝试判断后一位数值，用与判断当前找到的k是否是最后一个k\"\"\"\n",
    "        if start > end:\n",
    "            return -1\n",
    "        middleIndex = (start + end) // 2\n",
    "        middleData = data[middleIndex]\n",
    "        if middleData == k:\n",
    "            if (middleIndex < len(data) - 1 and data[middleIndex + 1] != k) or middleIndex == len(data) - 1:\n",
    "                return middleIndex\n",
    "            else:\n",
    "                start = middleIndex + 1\n",
    "        elif middleData < k:\n",
    "            start = middleIndex + 1\n",
    "        else:\n",
    "            end = middleIndex - 1\n",
    "        return self.GetLastK(data, k, start, end)\n",
    "    def GetNumberOfK(self, data, k):\n",
    "        \"\"\"主函数，调用二分法原理的子函数，找到第一个k和最后一个k出现的位置，从而计算出k在数组中出现的次数\"\"\"\n",
    "        number = 0\n",
    "        if data:\n",
    "            first = self.GetFirstK(data, k, 0, len(data) - 1)\n",
    "            last = self.GetLastK(data, k, 0, len(data) - 1)\n",
    "            if first > -1 and last > -1:\n",
    "                number = last - first + 1\n",
    "        return number"
   ]
  },
  {
   "cell_type": "markdown",
   "metadata": {},
   "source": [
    "+ 题目二：[0,n-1]中缺失的数字  \n",
    "一个长度为n-1的递增排序数组中的所有数字都是唯一的，并且每一个数字都在范围[0,n-1]之内。在范围[0,n-1]之内的n个数字有且只有一个数字不在该数组中，请找出该数字。"
   ]
  },
  {
   "cell_type": "code",
   "execution_count": 1,
   "metadata": {},
   "outputs": [
    {
     "name": "stdout",
     "output_type": "stream",
     "text": [
      "3\n"
     ]
    }
   ],
   "source": [
    "class Solution:\n",
    "    def GetMissingNumber(self,numbers):\n",
    "        \"\"\"问题转换为找到第一个下标和值不等的元素，利用二分查找法原理对排序数组进行查找\"\"\"\n",
    "        if not numbers:\n",
    "            return -1\n",
    "        left = 0\n",
    "        right = len(numbers) - 1\n",
    "        while left <= right:\n",
    "            middle = (right + left) >> 1\n",
    "            if numbers[middle] != middle:\n",
    "                if middle == 0 or numbers[middle-1] == middle - 1:\n",
    "                    return middle\n",
    "                right = middle - 1\n",
    "            else:\n",
    "                left = middle + 1\n",
    "        if left == len(numbers):\n",
    "            return len(numbers)\n",
    "        return -1\n",
    "# test code\n",
    "a = Solution()\n",
    "data = [0,1,2,4,5]\n",
    "print(a.GetMissingNumber(data))"
   ]
  },
  {
   "cell_type": "markdown",
   "metadata": {},
   "source": [
    "+ 题目三：数组中数值和下标相等的元素  \n",
    "假设一个单调递增的数组里每个元素都是整数并且唯一。请实现一个函数，找出数组中任意一个数值等于其下标的元素。例如，在数组{-3,-1,1,3,5}中，数字3和它的下标相等。"
   ]
  },
  {
   "cell_type": "code",
   "execution_count": 2,
   "metadata": {},
   "outputs": [
    {
     "name": "stdout",
     "output_type": "stream",
     "text": [
      "3\n"
     ]
    }
   ],
   "source": [
    "class Solution:\n",
    "    def GetNumberSameAsIndex(self,numbers):\n",
    "        if not numbers:\n",
    "            return -1\n",
    "        length = len(numbers)\n",
    "        left = 0\n",
    "        right = length - 1\n",
    "        while left <= right:\n",
    "            middle = (left + right) >> 1\n",
    "            if numbers[middle] == middle:\n",
    "                return middle\n",
    "            if numbers[middle] > middle:\n",
    "                right = middle - 1\n",
    "            else:\n",
    "                left = middle + 1\n",
    "        return -1\n",
    "# test code\n",
    "a = Solution()\n",
    "data = [-3,-3,1,3,5]\n",
    "print(a.GetNumberSameAsIndex(data))"
   ]
  },
  {
   "cell_type": "markdown",
   "metadata": {},
   "source": [
    "# 面试题54：二叉搜索树的第K大节点\n",
    "题目：给定一个二叉搜索数，请找出其中第k大的节点。例如，在下图中的二叉搜索树里，按节点数值大小顺序，第3大节点的值是4  \n",
    "![二叉搜索树](./54.png)"
   ]
  },
  {
   "cell_type": "code",
   "execution_count": 3,
   "metadata": {},
   "outputs": [
    {
     "name": "stdout",
     "output_type": "stream",
     "text": [
      "8\n"
     ]
    }
   ],
   "source": [
    "class TreeNode:\n",
    "    def __init__(self, x):\n",
    "        self.val = x\n",
    "        self.left = None\n",
    "        self.right = None\n",
    "\n",
    "class Solution:\n",
    "    \"\"\"中根序遍历一遍二叉搜索树相当于按节点数值大小顺遍历二叉树，遍历k次即可找到第k大的节点\"\"\"\n",
    "    def KthNodeCroe(self,pRoot, k):\n",
    "        target = None\n",
    "        if pRoot.left != None:\n",
    "            target = self.KthNodeCroe(pRoot.left, k)\n",
    "        if target == None:\n",
    "            if k[0] == 1:\n",
    "                target = pRoot\n",
    "            k[0] -= 1\n",
    "        if target == None and pRoot.right != None:\n",
    "            target = self.KthNodeCroe(pRoot.right, k)\n",
    "        return target\n",
    "    def KthNode(self,pRoot, k):\n",
    "        if pRoot == None or k == 0:\n",
    "            return None\n",
    "        return self.KthNodeCroe(pRoot, [k])\n",
    "# test code\n",
    "pRoot = TreeNode(5)\n",
    "pRoot.left = TreeNode(3)\n",
    "pRoot.right = TreeNode(7)\n",
    "pRoot.left.left = TreeNode(2)\n",
    "pRoot.left.right = TreeNode(4)\n",
    "pRoot.right.left = TreeNode(6)\n",
    "pRoot.right.right = TreeNode(8)\n",
    "a = Solution()\n",
    "print(a.KthNode(pRoot, 7).val)"
   ]
  },
  {
   "cell_type": "markdown",
   "metadata": {},
   "source": [
    "# 面试题55：二叉树的深度\n",
    "+ 题目一：二叉树的深度  \n",
    "输入一颗二叉树的根节点，求该树的深度。从根节点到叶节点依次经过的节点(含根、叶节点)形成树的一条路径，最长路径的长度为树的深度"
   ]
  },
  {
   "cell_type": "code",
   "execution_count": null,
   "metadata": {},
   "outputs": [],
   "source": [
    "class Solution:\n",
    "    def TreeDepth(self, pRoot):\n",
    "        \"\"\"递归的计算左右子树的深度，其中较大者加1就是本树的深度\"\"\"\n",
    "        if pRoot == None:\n",
    "            return 0\n",
    "        nLeft = self.TreeDepth(pRoot.left)\n",
    "        nRight = self.TreeDepth(pRoot.right)\n",
    "        return nLeft + 1 if nLeft > nRight else nRight + 1\n",
    "# test code\n",
    "# 代码已在牛客网通过测试"
   ]
  },
  {
   "cell_type": "markdown",
   "metadata": {},
   "source": [
    "+ 题目二：平衡二叉树  \n",
    "输入一颗二叉树的根节点，判断该树是不是平衡二叉树。如果某二叉树中任意节点的左、右子树的深度相差不超过1，那么它就是一颗平衡二叉树。"
   ]
  },
  {
   "cell_type": "code",
   "execution_count": 2,
   "metadata": {},
   "outputs": [],
   "source": [
    "class Solution:\n",
    "    \"\"\"利用后根序遍历原理，遍历的同时比较两颗子树的深度，判断是否平衡，利用可变类型list传入递归函数取得被递归的左右子树的最大深度\"\"\"\n",
    "    def IsBalancedCroe(self, pRoot, pDepth):\n",
    "        if not pRoot:\n",
    "            pDepth[0] = 0\n",
    "            return True\n",
    "        left, right = [None], [None]\n",
    "        if self.IsBalancedCroe(pRoot.left, left) and self.IsBalancedCroe(pRoot.right, right):\n",
    "            diff = left[0] - right[0]\n",
    "            if diff <= 1 and diff >= -1:\n",
    "                pDepth[0] = 1 + (left[0] if left[0] > right[0] else right[0])\n",
    "                return True\n",
    "        return False\n",
    "    def IsBalanced_Solution(self, pRoot):\n",
    "        depth = [None]\n",
    "        return self.IsBalancedCroe(pRoot, depth)\n",
    "# test code\n",
    "# 代码已通过牛客网测试"
   ]
  },
  {
   "cell_type": "markdown",
   "metadata": {},
   "source": [
    "# 面试题56：数组中数字出现的次数\n",
    "+ 题目－：数组中只出现一次的两个数字  \n",
    "一个整型数组里除了两个数字之外，其他数字都出现了两次。请写程序找出这两个只出现一次的数字。要求时间复杂度O(n)，空间复杂度O(1)。"
   ]
  },
  {
   "cell_type": "code",
   "execution_count": null,
   "metadata": {},
   "outputs": [],
   "source": [
    "class Solution:\n",
    "    def IsBit1(self,num,indexBit):\n",
    "        \"\"\"判断num的从右到左第indexBit位是否是1\"\"\"\n",
    "        num = num >> indexBit\n",
    "        return (num & 1)\n",
    "    def FindFirstBitIs1(self,num):\n",
    "        \"\"\"检查num二进制中1位于从左到右的第几位，并返回位数\"\"\"\n",
    "        indexBit = 0\n",
    "        while (num & 1 == 0) and indexBit < 8*4:\n",
    "            num = num >> 1\n",
    "            indexBit += 1\n",
    "        return indexBit\n",
    "    def FindNumsAppearOnce(self, array):\n",
    "        \"\"\"用0作为初始值，从左到右连续对array每个元素进行异或，出现两次的元素最终会相互抵消，剩下的就是两个只出现一次的元素的\n",
    "        异或的结果resultExclusiveOR，调用函数获取结果二进制中最低位的位置indexOf1，并再次连续异或利用该位置对另一个只出现\n",
    "        一次的元素进行排除，从而获得的两个结果就是array中两个只出现一次的元素\"\"\"\n",
    "        if not array:\n",
    "            return\n",
    "        resultExclusiveOr = 0\n",
    "        for i in array:\n",
    "            resultExclusiveOr = resultExclusiveOr ^ i\n",
    "        indexOf1 = self.FindFirstBitIs1(resultExclusiveOr)\n",
    "        result = [0,0]\n",
    "        for i in array:\n",
    "            if self.IsBit1(i,indexOf1):\n",
    "                result[0] = result[0] ^ i\n",
    "            else:\n",
    "                result[1] = result[1] ^ i\n",
    "        return result\n",
    "# test code\n",
    "# 代码已在牛客网通过测试"
   ]
  },
  {
   "cell_type": "markdown",
   "metadata": {},
   "source": [
    "+ 题目二：数组中唯一只出现一次的数字  \n",
    "在一个数组中除一个数字只出现一次之外，其他数字都出现了三次，请找出那个只出现一次的数字"
   ]
  },
  {
   "cell_type": "code",
   "execution_count": 1,
   "metadata": {},
   "outputs": [
    {
     "name": "stdout",
     "output_type": "stream",
     "text": [
      "6\n"
     ]
    }
   ],
   "source": [
    "class Solution:\n",
    "    def FindNumsAppearOnce(self, numbers):\n",
    "        \"\"\"将数组中所有元素的二进制数的每一位相加，若能被3整除则只出现一次的数字在此位一定为0，否则为1，收集这些1即可得到该数\"\"\"\n",
    "        if not numbers:\n",
    "            return None\n",
    "        bitSum = [0]*32\n",
    "        for i in range(len(numbers)):\n",
    "            bitMask = 1\n",
    "            for j in range(31,-1,-1):\n",
    "                bit = numbers[i] & bitMask\n",
    "                if bit != 0:\n",
    "                    bitSum[j] += 1\n",
    "                bitMask = bitMask << 1\n",
    "        result = 0\n",
    "        for i in range(32):\n",
    "            result = result << 1\n",
    "            result += bitSum[i] % 3\n",
    "        return result\n",
    "# test code\n",
    "a = Solution()\n",
    "data = [2,4,3,6,3,2,5,5,2,5,3,4,4]\n",
    "print(a.FindNumsAppearOnce(data))"
   ]
  },
  {
   "cell_type": "markdown",
   "metadata": {},
   "source": [
    "# 面试题57：和为s的数字\n",
    "+ 题目一：和为s的数字  \n",
    "输入一个递增排序的数组和一个数字s，在数组中查找两个数，使得它们的和正好是s。如果有多对数字的和等于s，则输出任意一对即可"
   ]
  },
  {
   "cell_type": "code",
   "execution_count": null,
   "metadata": {},
   "outputs": [],
   "source": [
    "class Solution:\n",
    "    \"\"\"使用两个索引分别指向数组的首尾，指针向中间对撞查找符合要求的数字，对于有多个符合要求的数字对来说，这种方法第一个找到的\n",
    "    必定是两数字只差最大的，因此也是乘积最小的，符合牛客网的附加条件，此外result还具备收集多对符合要求的数字的潜力\"\"\"\n",
    "    def FindNumbersWithSum(self, array, tsum):\n",
    "        if not array:\n",
    "            return []\n",
    "        result = []\n",
    "        ahead = len(array) - 1\n",
    "        behind = 0\n",
    "        while ahead > behind:\n",
    "            curSum = array[ahead] + array[behind]\n",
    "            if curSum == tsum:\n",
    "                result.append(array[behind])\n",
    "                result.append(array[ahead])\n",
    "                break\n",
    "            elif curSum > tsum:\n",
    "                ahead -= 1\n",
    "            else:\n",
    "                behind += 1\n",
    "        return result\n",
    "# test code\n",
    "# 代码已在牛客网通过测试"
   ]
  },
  {
   "cell_type": "markdown",
   "metadata": {},
   "source": [
    "+ 题目二：和为s的连续正数序列  \n",
    "输入一个正数s，打印出所有和为s的连续正数序列(至少含有两个数)。例如，输入15，由于1+2+3+4+5=4+5+6=7+8=15，所以打印出3个连续序列1~5,4~6,7~8。"
   ]
  },
  {
   "cell_type": "code",
   "execution_count": null,
   "metadata": {},
   "outputs": [],
   "source": [
    "class Solution:\n",
    "    def FindContinuousSequence(self, tsum):\n",
    "        \"\"\"和上题相同的思路，指针扩散，设置一个比较小数和较大数，判断其中间的序列和是否符合条件，其中当前序列和的计算参考了\n",
    "        前一序列和，在前一序列和基础上增加big或减少small，这样可以减少计算量\"\"\"\n",
    "        result = []\n",
    "        if tsum < 3:\n",
    "            return result\n",
    "        small = 1\n",
    "        big = 2\n",
    "        middle = (1 + tsum) // 2\n",
    "        curSum = small + big\n",
    "        while small < middle:\n",
    "            if curSum == tsum:\n",
    "                result.append([i for i in range(small, big+1)])\n",
    "            while curSum > tsum and small < middle:\n",
    "                curSum -= small\n",
    "                small += 1\n",
    "                if curSum == tsum:\n",
    "                    result.append([i for i in range(small, big + 1)])\n",
    "            big += 1\n",
    "            curSum += big\n",
    "        return result\n",
    "# test code\n",
    "# 代码已在牛客网通过测试"
   ]
  },
  {
   "cell_type": "markdown",
   "metadata": {},
   "source": [
    "# 面试题58：翻转字符串\n",
    "+ 题目一：翻转单词顺序  \n",
    "输入一个英文句子，翻转句子中单词的顺序，但单词内字符的顺序不变。为简单起见，标点符号和普通字母一样处理。例如输入字符串\"I am a student\"，则输出\"student a am I\"。"
   ]
  },
  {
   "cell_type": "code",
   "execution_count": null,
   "metadata": {},
   "outputs": [],
   "source": [
    "class Solution:\n",
    "    \"\"\"先使用reverse翻转整个句子，再将单词逐个恢复过来\"\"\"\n",
    "    def Reverse(self,data, pBegin, pEnd):\n",
    "        if not data:\n",
    "            raise Exception(\"输入数据为空\")\n",
    "        while pBegin < pEnd and pEnd < len(data):\n",
    "            temp = data[pBegin]\n",
    "            data[pBegin] = data[pEnd]\n",
    "            data[pEnd] = temp\n",
    "            pBegin += 1\n",
    "            pEnd -= 1\n",
    "    def ReverseSentence(self, s):\n",
    "        if not s:\n",
    "            return ''\n",
    "        data = list(s)\n",
    "        pBegin = 0\n",
    "        pEnd = 0\n",
    "        self.Reverse(data, pBegin, len(data) - 1)\n",
    "        while pBegin < len(data):\n",
    "            if data[pBegin] == ' ':\n",
    "                pBegin += 1\n",
    "                pEnd += 1\n",
    "            elif pEnd == len(data) or data[pEnd] == ' ':\n",
    "                self.Reverse(data, pBegin, pEnd - 1)\n",
    "                pBegin = pEnd\n",
    "            else:\n",
    "                pEnd += 1\n",
    "        return ''.join(data)\n",
    "# test code\n",
    "# 代码已在牛客网通过测试"
   ]
  },
  {
   "cell_type": "markdown",
   "metadata": {},
   "source": [
    "+ 题目二：左旋字符串。　　\n",
    "字符串的左旋转操作是把字符串的前面若干个字符转移到字符串的尾部。请定义一个函数实现字符串左旋转操作的功能。比如，输入字符串\"abcdefg\"和数字２，该函数将返回左旋转两位得到的结果\"cdefgab\""
   ]
  },
  {
   "cell_type": "code",
   "execution_count": null,
   "metadata": {},
   "outputs": [],
   "source": [
    "class Solution:\n",
    "    \"\"\"和题目一的思路一致，将字符串按ｎ分成两段，先分别翻转，在整体翻转即可达到效果\"\"\"\n",
    "    def Reverse(self,data, pBegin, pEnd):\n",
    "        if not data:\n",
    "            raise Exception(\"输入数据为空\")\n",
    "        while pBegin < pEnd and pEnd < len(data):\n",
    "            temp = data[pBegin]\n",
    "            data[pBegin] = data[pEnd]\n",
    "            data[pEnd] = temp\n",
    "            pBegin += 1\n",
    "            pEnd -= 1\n",
    "    def LeftRotateString(self, s, n):\n",
    "        data = s\n",
    "        if s:\n",
    "            length = len(s)\n",
    "            if length > 0 and n > 0 and n < length:\n",
    "                data = list(s)\n",
    "                pFirstStart = 0\n",
    "                pFirstEnd = n - 1\n",
    "                pSecondStart = n\n",
    "                pSecondEnd = length - 1\n",
    "                self.Reverse(data, pFirstStart, pFirstEnd)\n",
    "                self.Reverse(data, pSecondStart, pSecondEnd)\n",
    "                self.Reverse(data, pFirstStart, pSecondEnd)\n",
    "        return ''.join(data)\n",
    "# test code\n",
    "# 代码已在牛客网通过测试"
   ]
  },
  {
   "cell_type": "markdown",
   "metadata": {},
   "source": [
    "# 面试题59：队列的最大值\n",
    "+ 题目一：滑动窗口的最大值  \n",
    "给定一个数组和滑动窗口的大小，请找出所有滑动窗口里的最大值。例如，如果输入数组{2,3,4,2,6,2,5,1}以及滑动窗口大小3，那么一共存在6个滑动窗口，他们的最大值分别是{4,4,6,6,6,5}。"
   ]
  },
  {
   "cell_type": "code",
   "execution_count": null,
   "metadata": {},
   "outputs": [],
   "source": [
    "class Solution:\n",
    "    def maxInWindows(self, num, size):\n",
    "        \"\"\"使用双端队列，维持队列顶端始终是滑动窗口的最大值的索引位置\"\"\"\n",
    "        result = []\n",
    "        if len(num) >= size and size >= 1:\n",
    "            index = []\n",
    "            for i in range(size):  # 第一段循环填充满第一个滑动窗口\n",
    "                while index and num[i] >= num[index[-1]]:\n",
    "                    index.pop(-1)\n",
    "                index.append(i)\n",
    "            for i in range(size, len(num)):  # 第二段循环开始记录每个滑动窗口的最大值\n",
    "                result.append(num[index[0]])\n",
    "                while index and num[i] >= num[index[-1]]:\n",
    "                    index.pop(-1)\n",
    "                if index and index[0] <= int(i - size):  # 若当前最大值已滑出窗口，则将其删除\n",
    "                    index.pop(0)\n",
    "                index.append(i)\n",
    "            result.append(num[index[0]])\n",
    "        return result\n",
    "# test code\n",
    "# 代码已在牛客网通过测试"
   ]
  },
  {
   "cell_type": "markdown",
   "metadata": {},
   "source": [
    "+ 题目二：队列的最大值  \n",
    "请定义一个队列并实现函数max得到队列里的最大值，要求函数max，push_back和pop_front的时间复杂度都是O(1)。"
   ]
  },
  {
   "cell_type": "code",
   "execution_count": 2,
   "metadata": {},
   "outputs": [
    {
     "name": "stdout",
     "output_type": "stream",
     "text": [
      "2\n",
      "3\n",
      "4\n",
      "4\n",
      "6\n",
      "6\n",
      "6\n",
      "5\n"
     ]
    }
   ],
   "source": [
    "class Solution:\n",
    "    \"\"\"思路类似题目一\"\"\"\n",
    "    def __init__(self):\n",
    "        self.data = []\n",
    "        self.maximums = []\n",
    "        self.currentIndex = 0\n",
    "    def push_back(self, number):\n",
    "        while self.maximums and number >= self.maximums[-1][0]:\n",
    "            self.maximums.pop(-1)\n",
    "        self.data.append([number, self.currentIndex])\n",
    "        self.maximums.append([number, self.currentIndex])\n",
    "        self.currentIndex += 1\n",
    "    def pop_front(self):\n",
    "        if not self.maximums:\n",
    "            raise Exception('queue is empty')\n",
    "        if self.maximums[0][1] == self.data[0][1]:\n",
    "            self.maximums.pop(0)\n",
    "        self.data.pop(0)\n",
    "    def maxNumber(self):\n",
    "        if not self.maximums:\n",
    "            raise Exception(\"queue is empty\")\n",
    "        return self.maximums[0][0]\n",
    "# test code\n",
    "a = Solution()\n",
    "data = [2,3,4,2,6,2,5,1]\n",
    "for i in data:\n",
    "    a.push_back(i)\n",
    "    print(a.maxNumber())\n",
    "    if len(a.data) >= 3:\n",
    "        a.pop_front()"
   ]
  },
  {
   "cell_type": "markdown",
   "metadata": {},
   "source": [
    "# 面试题60：n个骰子的点数\n",
    "题目：把n个骰子仍在地上，所有骰子朝上一面的点数之和为s。输入n，打印出s所有可能的值出现的概率。"
   ]
  },
  {
   "cell_type": "code",
   "execution_count": 1,
   "metadata": {},
   "outputs": [
    {
     "name": "stdout",
     "output_type": "stream",
     "text": [
      "[0.004629629629629629, 0.013888888888888888, 0.027777777777777776, 0.046296296296296294, 0.06944444444444445, 0.09722222222222222, 0.11574074074074074, 0.125, 0.125, 0.11574074074074074, 0.09722222222222222, 0.06944444444444445, 0.046296296296296294, 0.027777777777777776, 0.013888888888888888, 0.004629629629629629]\n"
     ]
    }
   ],
   "source": [
    "class Solution:\n",
    "    \"\"\"递归的实现算法思路虽然清晰，但算法复杂度高，故而仅实现基于循环的算法，使用两个辅助数组来存储中间结果，多出一个骰子，其增加\n",
    "    的结果的频次是数组前6个数字之和，基于此利用循环来模拟实现\"\"\"\n",
    "    def __init__(self):\n",
    "        self.g_maxValue = 6\n",
    "    def probability(self, number):\n",
    "        if number < 1:\n",
    "            return\n",
    "        pProbabilities = [[0]*(self.g_maxValue * number + 1),[0]*(self.g_maxValue * number + 1)]\n",
    "        flag = 0\n",
    "        for i in range(1,self.g_maxValue + 1):\n",
    "            pProbabilities[flag][i] = 1\n",
    "        for j in range(2, number + 1):\n",
    "            for i in range(j):\n",
    "                pProbabilities[1-flag][i] = 0\n",
    "            for i in range(j, self.g_maxValue*j + 1):\n",
    "                pProbabilities[1-flag][i] = 0\n",
    "                k = 1\n",
    "                while k <= i and k <= self.g_maxValue:\n",
    "                    pProbabilities[1-flag][i] += pProbabilities[flag][i-k]\n",
    "                    k += 1\n",
    "            flag = 1 - flag\n",
    "        total = pow(self.g_maxValue, number)\n",
    "        return [pProbabilities[flag][i]/total for i in range(number, self.g_maxValue*number + 1)]\n",
    "# test code\n",
    "a = Solution()\n",
    "result = a.probability(3)\n",
    "print(result)"
   ]
  },
  {
   "cell_type": "markdown",
   "metadata": {},
   "source": [
    "# 面试题61：扑克牌中的顺子\n",
    "题目：从扑克牌中随机抽出5张牌，判断是不是一个顺子，即这5张牌是不是连续的。2~10为数字本身，A为1，J为11，Q为12，K为13，而大、小王可以看成任意数字。"
   ]
  },
  {
   "cell_type": "code",
   "execution_count": null,
   "metadata": {},
   "outputs": [],
   "source": [
    "class Solution:\n",
    "    def IsContinuous(self, numbers):\n",
    "        \"\"\"先将数组进行排序，计算0的个数和间隔的长度，若间隔的长度大于0的个数，则说明使用大小王也无法将五张牌连成顺子，\n",
    "        另外检测到对子则直接判断不是顺子\"\"\"\n",
    "        if not numbers:\n",
    "            return False\n",
    "        numbers.sort()\n",
    "        numberOfZero = 0\n",
    "        numberOfGap = 0\n",
    "        for i in numbers:\n",
    "            if i > 0:\n",
    "                break\n",
    "            numberOfZero += 1\n",
    "        small = numberOfZero\n",
    "        big = small + 1\n",
    "        while big < len(numbers):\n",
    "            if numbers[small] == numbers[big]:\n",
    "                return False\n",
    "            numberOfGap += numbers[big] - numbers[small] - 1\n",
    "            small = big\n",
    "            big += 1\n",
    "        return False if numberOfGap > numberOfZero else True\n",
    "# test code\n",
    "# 代码已在牛客网通过测试"
   ]
  },
  {
   "cell_type": "markdown",
   "metadata": {},
   "source": [
    "# 面试题62：圆圈中最后剩下的数字\n",
    "题目：0,1,...,n-1这n个数字排成一个圆圈，从数字0开始，每次从这一个圆圈里删除第m个数字。求出这个圆圈里剩下的最后一个数字。"
   ]
  },
  {
   "cell_type": "code",
   "execution_count": null,
   "metadata": {},
   "outputs": [],
   "source": [
    "class Solution:\n",
    "    \"\"\"此为经典的约瑟夫环问题，可以采用环形链表模拟圆圈进行求解，但此方法时间复杂度为O(mn),空间复杂度O(n)算法效率不高。\n",
    "    另一种方法是找出被删数字的规律，直接计算圆圈中剩下的数字，此方法需要进行数学分析建模，过程较为复杂，但算法效率一般比较高\n",
    "    以下代码根据数学建模后的递归公式写成，算法时间复杂度为O(n),空间复杂度O(1)，具体建模过程详见剑指offer，P302-303。\"\"\"\n",
    "    def LastRemaining_Solution(self, n, m):\n",
    "        if n < 1 or m < 1:\n",
    "            return -1\n",
    "        last = 0\n",
    "        for i in range(2, n+1):\n",
    "            last = (last + m) % i\n",
    "        return last\n",
    "# test code\n",
    "# 代码已在牛客网通过测试"
   ]
  },
  {
   "cell_type": "markdown",
   "metadata": {},
   "source": [
    "# 面试题63：股票的最大利润\n",
    "题目：假设把某股票的价格按照时间先后顺序存储在数组中，请问买卖该股票一次可能获得的最大利润是多少？例如，一只股票在某些时间节点的价格为{9,11,8,5,7,12,16,14}。如果我们能在价格为5的时候买入，并在价格为16时卖出，则能收获最大的利润11."
   ]
  },
  {
   "cell_type": "code",
   "execution_count": 1,
   "metadata": {},
   "outputs": [
    {
     "data": {
      "text/plain": [
       "11"
      ]
     },
     "execution_count": 1,
     "metadata": {},
     "output_type": "execute_result"
    }
   ],
   "source": [
    "class Solution:\n",
    "    def MaxDiff(self, numbers):\n",
    "        \"\"\"maxdiff存储扫描过的数字中最大利润，minNumber存储扫描过的数字中的最小数字，循环遍历整个数组，\n",
    "        最后得到的必定是最大的差值，即最大利润\"\"\"\n",
    "        if len(numbers) < 2:\n",
    "            return 0\n",
    "        minNumber = numbers[0]\n",
    "        maxDiff = numbers[1] - minNumber\n",
    "        for i in range(2, len(numbers)):\n",
    "            if numbers[i-1] < minNumber:\n",
    "                minNumber = numbers[i-1]\n",
    "            currentDiff = numbers[i] - minNumber\n",
    "            if currentDiff > maxDiff:\n",
    "                maxDiff = currentDiff\n",
    "        return maxDiff\n",
    "# test code\n",
    "a = Solution()\n",
    "data = [9,11,8,5,7,12,16,14]\n",
    "a.MaxDiff(data)"
   ]
  },
  {
   "cell_type": "markdown",
   "metadata": {},
   "source": [
    "# 面试题64：求1+2+...+n\n",
    "题目：求1+2+...+n，要求不能使用乘除法，for，while，if，else，switch，case等关键字及条件判断语句。"
   ]
  },
  {
   "cell_type": "code",
   "execution_count": 6,
   "metadata": {},
   "outputs": [
    {
     "data": {
      "text/plain": [
       "6"
      ]
     },
     "execution_count": 6,
     "metadata": {},
     "output_type": "execute_result"
    }
   ],
   "source": [
    "class Solution:\n",
    "    \"\"\"通过构造函数绕过绕过条件判断，构造出递归终止条件，通过递归实现循环相加。剑指offer中四种方法(构造函数，虚函数，函数指针，\n",
    "    模板类型)都是绕开循环递归相加的思路\"\"\"\n",
    "    def __init__(self):\n",
    "        def sum_stop(n):\n",
    "            return 0\n",
    "        self.fun_list = [sum_stop]\n",
    "\n",
    "    def Sum_Solution(self, n):\n",
    "        self.fun_list.append(self.Sum_Solution)\n",
    "        return self.fun_list[bool(n)](n-1) + n\n",
    "# test code\n",
    "# 代码已在牛客网通过测试"
   ]
  },
  {
   "cell_type": "markdown",
   "metadata": {},
   "source": [
    "# 面试题65：不用加减乘除做加法\n",
    "题目：写一个函数，求两整数之和，要求在函数体内不得使用+-*/四则运算符号"
   ]
  },
  {
   "cell_type": "code",
   "execution_count": null,
   "metadata": {},
   "outputs": [],
   "source": [
    "class Solution:\n",
    "    \"\"\"使用异或运算，计算无进位时的结果，使用按位与和左移运算来计算进位数字。由于python在数字即将溢出时会自动使用大数表示，因此\n",
    "    需要对求和结果判断溢出\"\"\"\n",
    "    def Add(self, num1, num2):\n",
    "        while num2 != 0:\n",
    "            temp = num1 ^ num2\n",
    "            num2 = (num1 & num2) << 1\n",
    "            num1 = temp & 0xFFFFFFFF \n",
    "        return num1 if num1 >> 31 == 0 else ~(num1 ^ 0xffffffff)\n",
    "# test code\n",
    "# 代码已在牛客网通过测试"
   ]
  },
  {
   "cell_type": "markdown",
   "metadata": {},
   "source": [
    "# 面试题66：构建乘积数组\n",
    "题目：给定一个数组A[0,1,...,n-1],请构建一个数组B[0,1,...,n-1]，其中B中的元素B[i]=A[0]*A[1]*...*A[i-1]*A[i+1]*...*A[n-1]。不能使用除法"
   ]
  }
 ],
 "metadata": {
  "kernelspec": {
   "display_name": "Python 3",
   "language": "python",
   "name": "python3"
  },
  "language_info": {
   "codemirror_mode": {
    "name": "ipython",
    "version": 3
   },
   "file_extension": ".py",
   "mimetype": "text/x-python",
   "name": "python",
   "nbconvert_exporter": "python",
   "pygments_lexer": "ipython3",
   "version": "3.6.4"
  },
  "toc": {
   "base_numbering": 1,
   "nav_menu": {},
   "number_sections": true,
   "sideBar": true,
   "skip_h1_title": false,
   "title_cell": "Table of Contents",
   "title_sidebar": "Contents",
   "toc_cell": false,
   "toc_position": {
    "height": "calc(100% - 180px)",
    "left": "10px",
    "top": "150px",
    "width": "253px"
   },
   "toc_section_display": true,
   "toc_window_display": true
  },
  "varInspector": {
   "cols": {
    "lenName": 16,
    "lenType": 16,
    "lenVar": 40
   },
   "kernels_config": {
    "python": {
     "delete_cmd_postfix": "",
     "delete_cmd_prefix": "del ",
     "library": "var_list.py",
     "varRefreshCmd": "print(var_dic_list())"
    },
    "r": {
     "delete_cmd_postfix": ") ",
     "delete_cmd_prefix": "rm(",
     "library": "var_list.r",
     "varRefreshCmd": "cat(var_dic_list()) "
    }
   },
   "position": {
    "height": "138px",
    "left": "837.4px",
    "right": "20px",
    "top": "109px",
    "width": "390px"
   },
   "types_to_exclude": [
    "module",
    "function",
    "builtin_function_or_method",
    "instance",
    "_Feature"
   ],
   "window_display": false
  }
 },
 "nbformat": 4,
 "nbformat_minor": 2
}
