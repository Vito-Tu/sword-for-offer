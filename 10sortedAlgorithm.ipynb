{
 "cells": [
  {
   "cell_type": "markdown",
   "metadata": {},
   "source": [
    "# 十大经典排序算法python实现"
   ]
  },
  {
   "cell_type": "markdown",
   "metadata": {},
   "source": [
    "## 冒泡排序法\n",
    "相邻元素比较大小进行互换"
   ]
  },
  {
   "cell_type": "code",
   "execution_count": 5,
   "metadata": {},
   "outputs": [
    {
     "name": "stdout",
     "output_type": "stream",
     "text": [
      "[1, 2, 3, 5, 5, 5, 8]\n"
     ]
    }
   ],
   "source": [
    "def bubbleSort(arr):\n",
    "    l = len(arr)\n",
    "    for i in range(l):\n",
    "        flag = False\n",
    "        for j in range(l - i - 1):\n",
    "            if arr[j] > arr[j+1]:\n",
    "                arr[j], arr[j+1] = arr[j+1], arr[j]\n",
    "                flag = True\n",
    "        if flag == False:\n",
    "            #flag为False说明arr已经是排好序的无须再进行排序直接眺出节约时间\n",
    "            break\n",
    "    return arr\n",
    "print(bubbleSort([5,5,5,2,3,8,1]))"
   ]
  },
  {
   "cell_type": "markdown",
   "metadata": {},
   "source": [
    "# 选择排序\n",
    "每次从未排序序列中选择一个最小值放入已排序序列的末尾"
   ]
  },
  {
   "cell_type": "code",
   "execution_count": 6,
   "metadata": {},
   "outputs": [
    {
     "name": "stdout",
     "output_type": "stream",
     "text": [
      "[1, 2, 3, 5, 5, 5, 8]\n"
     ]
    }
   ],
   "source": [
    "def select_sort(arr):\n",
    "    l = len(arr)\n",
    "    for i in range(l - 1):\n",
    "        min_index = i  #默认未排序序列第一位为最小值，因此循环从第二位开始，找到最小值后与之互换值\n",
    "        for j in range(i+1, l):\n",
    "            if arr[j] < arr[min_index]:\n",
    "                min_index = j\n",
    "        arr[i], arr[min_index] = arr[min_index], arr[i]\n",
    "    return arr\n",
    "\n",
    "print(select_sort([5,5,5,2,3,8,1]))"
   ]
  },
  {
   "cell_type": "markdown",
   "metadata": {},
   "source": [
    "# 插入排序\n",
    "通过构建有序序列，对未排序的数据，在已知数列中从后向前扫描，记当前位置为temp，若扫描位的元素比temp大，则将该元素后移一位，直到找到比temp小的元素为止，把temp插入到该元素的后一位。"
   ]
  },
  {
   "cell_type": "code",
   "execution_count": 1,
   "metadata": {},
   "outputs": [
    {
     "name": "stdout",
     "output_type": "stream",
     "text": [
      "[1, 2, 3, 5, 5, 5, 8]\n"
     ]
    }
   ],
   "source": [
    "def insert_sort(arr):\n",
    "    l = len(arr)\n",
    "    for i in range(1, l):\n",
    "        j = i - 1\n",
    "        temp = arr[i]\n",
    "        while j >= 0 and arr[j] > temp:\n",
    "            arr[j+1] = arr[j]  #j+1等于i,将较大的元素后移一位\n",
    "            j -= 1\n",
    "        arr[j+1] = temp\n",
    "    return arr\n",
    "print(insert_sort([5,5,5,2,3,8,1]))"
   ]
  },
  {
   "cell_type": "markdown",
   "metadata": {},
   "source": [
    "# 希尔排序\n"
   ]
  },
  {
   "cell_type": "code",
   "execution_count": 6,
   "metadata": {},
   "outputs": [
    {
     "name": "stdout",
     "output_type": "stream",
     "text": [
      "[72, 141, 283, 348, 401, 592, 820, 874, 887, 911]\n"
     ]
    }
   ],
   "source": [
    "def shell_sort(arr):\n",
    "    count = len(arr)\n",
    "    step = 2\n",
    "    group = count // step #the number of divie\n",
    "    while group > 0:\n",
    "        for i in range(group):\n",
    "            j = i + group\n",
    "            while j < count:\n",
    "                key = arr[j] #the later\n",
    "                k = j - group #the former\n",
    "                \n",
    "                while k >= 0 and arr[k] > key: #used little insert sort\n",
    "                    arr[k + group] = arr[k]\n",
    "                    k -= group\n",
    "                arr[k + group] = key\n",
    "                \n",
    "                j += group #the index of later\n",
    "        group //= step\n",
    "    return arr\n",
    "print(shell_sort([592,401,874,141,348,72,911,887,820,283]))"
   ]
  },
  {
   "cell_type": "markdown",
   "metadata": {},
   "source": [
    "# 归并排序\n",
    "把长度为n的输入序列分成两个长度为n/2的子序列，对着两个子序列分别采用归并排序，将两个排序好的子序列合并成一个最终的排序序列"
   ]
  },
  {
   "cell_type": "code",
   "execution_count": 7,
   "metadata": {},
   "outputs": [
    {
     "name": "stdout",
     "output_type": "stream",
     "text": [
      "[1, 2, 3, 5, 5, 5, 8]\n"
     ]
    }
   ],
   "source": [
    "def merge(left, right):\n",
    "    i, j = 0, 0\n",
    "    res = []\n",
    "    while i < len(left) and j < len(right): #must exhaust i or j\n",
    "        if left[i] <= right[j]:\n",
    "            res.append(left[i])\n",
    "            i += 1 #move i to next left index\n",
    "        else:\n",
    "            res.append(right[j])\n",
    "            j += 1 #move j to next right index\n",
    "    res += left[i:] #merge over left or right\n",
    "    res += right[j:]\n",
    "    return res\n",
    "\n",
    "def merge_sort(arr):\n",
    "    if len(arr) <= 1:\n",
    "        return arr\n",
    "    num = len(arr) // 2\n",
    "    left = merge_sort(arr[:num]) #分而治之，分别对左右递归调用归并排序知道arr长度为1\n",
    "    right = merge_sort(arr[num:])\n",
    "    return merge(left, right) #函数返回合并的左右序列，排序运算主要在merge中完成\n",
    "\n",
    "print(merge_sort([5,5,5,2,3,8,1]))"
   ]
  },
  {
   "cell_type": "markdown",
   "metadata": {},
   "source": [
    "# 快速排序\n",
    "从数列中挑出一个元素作为基准，比基准小的元素全部排在左边，反之在右边。这个分区结束之后，基准尽量位于中间。递归的对基准左右两边的数列进行排序。"
   ]
  },
  {
   "cell_type": "code",
   "execution_count": 14,
   "metadata": {},
   "outputs": [
    {
     "name": "stdout",
     "output_type": "stream",
     "text": [
      "[1, 2, 3, 5, 5, 5, 8]\n"
     ]
    }
   ],
   "source": [
    "import random\n",
    "def fastSort(array):\n",
    "    '''sort a list object array use fast sorting algorithm\n",
    "    arg:\n",
    "        input a list object array\n",
    "    \n",
    "    return:\n",
    "        a list sorted from small to big used fast sort\n",
    "    '''\n",
    "    if len(array) < 2:\n",
    "        return array\n",
    "    else:\n",
    "        base_num = array[0]     #假定第一个数为基准\n",
    "#         base_num = random.choice(array) #随机选择一个数\n",
    "        smaller = [i for i in array[1:] if i <= base_num]\n",
    "        bigger = [i for i in array[1:] if i > base_num]\n",
    "        return fastSort(smaller) + [base_num] + fastSort(bigger)\n",
    "print(fastSort([5,5,5,2,3,8,1]))"
   ]
  },
  {
   "cell_type": "markdown",
   "metadata": {},
   "source": [
    "# 堆排序\n",
    "利用堆数据结构所设计的排序算法，通过每次弹出堆顶元素实现排序"
   ]
  },
  {
   "cell_type": "code",
   "execution_count": 15,
   "metadata": {},
   "outputs": [
    {
     "name": "stdout",
     "output_type": "stream",
     "text": [
      "[1, 2, 3, 5, 5, 5, 8]\n"
     ]
    }
   ],
   "source": [
    "import heapq\n",
    "def heap_sort(arr):\n",
    "    heapq.heapify(arr)\n",
    "    res = []\n",
    "    while arr:\n",
    "        res.append(heapq.heappop(arr))\n",
    "    return res\n",
    "\n",
    "print(heap_sort([5,5,5,2,3,8,1]))"
   ]
  },
  {
   "cell_type": "markdown",
   "metadata": {},
   "source": [
    "# 计数排序\n",
    "将输入数据值转化为键存储在额外开辟的数组空间中，找出待排序数组中最大的元素，建立该长度的数组c，统计数组中每个值为i的元素出现的次数，对所有计数累加，表示该元素位于有序表中第几项，反向填充目标数组，将每个元素i放在新数组第c[j]项，每放一个元素就将c[i]-1"
   ]
  },
  {
   "cell_type": "code",
   "execution_count": 18,
   "metadata": {},
   "outputs": [
    {
     "name": "stdout",
     "output_type": "stream",
     "text": [
      "[1, 2, 3, 5, 5, 5, 8]\n"
     ]
    }
   ],
   "source": [
    "def count_sort(arr):\n",
    "    res = [None for i in range(len(arr))]\n",
    "    max_arr = max(arr)\n",
    "    c = [0 for i in range(max_arr + 1)]\n",
    "    for a in arr: #对arr中元素进行计数\n",
    "        c[a] += 1\n",
    "    for i in range(1, max_arr+1): #计算下标所代表的数在即将排好序的列表中第一次出现在第几个位置\n",
    "        c[i] += c[i-1]\n",
    "    for i in range(len(arr)-1, -1, -1):\n",
    "        res[c[arr[i]] - 1] = arr[i] #c[arr[i]]-1表示arr[i]所代表值在有序表中的索引位\n",
    "        c[arr[i]] -= 1          #对已排序数字对应位置进行计数，保证有多位相同数字时上式索引正确\n",
    "    return res\n",
    "print(count_sort([5,5,5,2,3,8,1]))"
   ]
  },
  {
   "cell_type": "markdown",
   "metadata": {},
   "source": [
    "# 桶排序\n",
    "假设输入数据服从均匀分布，将数据分到有限数量的桶里，每个桶再分别排序。假定一个定量长度的数组当空桶，遍历输入数据，并且把数据一个个放进对应的桶中，对每个不是空的桶进行排序，从不是空的桶里把排好序的数据拼接起来"
   ]
  },
  {
   "cell_type": "code",
   "execution_count": 20,
   "metadata": {},
   "outputs": [
    {
     "name": "stdout",
     "output_type": "stream",
     "text": [
      "[1, 2, 3, 5, 5, 5, 8]\n"
     ]
    }
   ],
   "source": [
    "def bucket_sort(arr):\n",
    "    pre_lst = [0]*max(arr)\n",
    "    res = []\n",
    "    for a in arr: #对arr元素进行统计\n",
    "        pre_lst[a-1] += 1\n",
    "    i = 0\n",
    "    while i < len(pre_lst):\n",
    "        j = 0\n",
    "        while j < pre_lst[i]:\n",
    "            res.append(i+1)\n",
    "            j += 1\n",
    "        i += 1\n",
    "    return res\n",
    "print(bucket_sort([5,5,5,2,3,8,1]))"
   ]
  },
  {
   "cell_type": "markdown",
   "metadata": {},
   "source": [
    "# 基数排序\n"
   ]
  },
  {
   "cell_type": "code",
   "execution_count": 21,
   "metadata": {},
   "outputs": [
    {
     "name": "stdout",
     "output_type": "stream",
     "text": [
      "[1, 2, 3, 5, 5, 5, 8]\n"
     ]
    }
   ],
   "source": [
    "def radix_sort(arr):\n",
    "    max_arr = max(arr)\n",
    "    d = len(str(max_arr))\n",
    "    for k in range(d):\n",
    "        s = [[] for i in range(10)]\n",
    "        for i in arr:\n",
    "            s[i//(10**k)%10].append(i)    \n",
    "        arr = [j for i in s for j in i]\n",
    "    return arr\n",
    "print(radix_sort([5,5,5,2,3,8,1]))\n",
    "            "
   ]
  }
 ],
 "metadata": {
  "kernelspec": {
   "display_name": "Python 3",
   "language": "python",
   "name": "python3"
  },
  "language_info": {
   "codemirror_mode": {
    "name": "ipython",
    "version": 3
   },
   "file_extension": ".py",
   "mimetype": "text/x-python",
   "name": "python",
   "nbconvert_exporter": "python",
   "pygments_lexer": "ipython3",
   "version": "3.6.4"
  },
  "toc": {
   "base_numbering": 1,
   "nav_menu": {},
   "number_sections": true,
   "sideBar": true,
   "skip_h1_title": false,
   "title_cell": "Table of Contents",
   "title_sidebar": "Contents",
   "toc_cell": false,
   "toc_position": {},
   "toc_section_display": true,
   "toc_window_display": false
  },
  "varInspector": {
   "cols": {
    "lenName": 16,
    "lenType": 16,
    "lenVar": 40
   },
   "kernels_config": {
    "python": {
     "delete_cmd_postfix": "",
     "delete_cmd_prefix": "del ",
     "library": "var_list.py",
     "varRefreshCmd": "print(var_dic_list())"
    },
    "r": {
     "delete_cmd_postfix": ") ",
     "delete_cmd_prefix": "rm(",
     "library": "var_list.r",
     "varRefreshCmd": "cat(var_dic_list()) "
    }
   },
   "types_to_exclude": [
    "module",
    "function",
    "builtin_function_or_method",
    "instance",
    "_Feature"
   ],
   "window_display": false
  }
 },
 "nbformat": 4,
 "nbformat_minor": 2
}
